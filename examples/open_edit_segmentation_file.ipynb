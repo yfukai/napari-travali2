{
 "cells": [
  {
   "cell_type": "code",
   "execution_count": 4,
   "metadata": {},
   "outputs": [
    {
     "name": "stdout",
     "output_type": "stream",
     "text": [
      "Found existing installation: trackarray-tensorstore 0.0.0\n",
      "Uninstalling trackarray-tensorstore-0.0.0:\n",
      "  Successfully uninstalled trackarray-tensorstore-0.0.0\n",
      "Note: you may need to restart the kernel to use updated packages.\n",
      "Collecting git+https://github.com/yfukai/tensorstore_trackarr@main\n",
      "  Cloning https://github.com/yfukai/tensorstore_trackarr (to revision main) to /private/var/folders/81/kh0zpmbd00g39vwz69lkk4mc0000gn/T/pip-req-build-11_bapv2\n",
      "  Running command git clone --filter=blob:none --quiet https://github.com/yfukai/tensorstore_trackarr /private/var/folders/81/kh0zpmbd00g39vwz69lkk4mc0000gn/T/pip-req-build-11_bapv2\n",
      "  Resolved https://github.com/yfukai/tensorstore_trackarr to commit 2833fb29588868bbd830b837dd0a65449fa1e76d\n",
      "  Installing build dependencies ... \u001b[?25ldone\n",
      "\u001b[?25h  Getting requirements to build wheel ... \u001b[?25ldone\n",
      "\u001b[?25h  Preparing metadata (pyproject.toml) ... \u001b[?25ldone\n",
      "\u001b[?25hRequirement already satisfied: click>=8.0.1 in /Users/fukai/projects/napari-travali2/.venv/lib/python3.13/site-packages (from trackarray-tensorstore==0.0.0) (8.1.8)\n",
      "Requirement already satisfied: numpy<3.0,>=2.1 in /Users/fukai/projects/napari-travali2/.venv/lib/python3.13/site-packages (from trackarray-tensorstore==0.0.0) (2.1.3)\n",
      "Requirement already satisfied: pandas<3.0.0,>=2.2.3 in /Users/fukai/projects/napari-travali2/.venv/lib/python3.13/site-packages (from trackarray-tensorstore==0.0.0) (2.2.3)\n",
      "Requirement already satisfied: pandera<0.23.0,>=0.22.1 in /Users/fukai/projects/napari-travali2/.venv/lib/python3.13/site-packages (from trackarray-tensorstore==0.0.0) (0.22.1)\n",
      "Requirement already satisfied: scikit-image<0.26.0,>=0.25.0 in /Users/fukai/projects/napari-travali2/.venv/lib/python3.13/site-packages (from trackarray-tensorstore==0.0.0) (0.25.0)\n",
      "Requirement already satisfied: tensorstore<0.2.0,>=0.1.71 in /Users/fukai/projects/napari-travali2/.venv/lib/python3.13/site-packages (from trackarray-tensorstore==0.0.0) (0.1.71)\n",
      "Requirement already satisfied: python-dateutil>=2.8.2 in /Users/fukai/projects/napari-travali2/.venv/lib/python3.13/site-packages (from pandas<3.0.0,>=2.2.3->trackarray-tensorstore==0.0.0) (2.9.0.post0)\n",
      "Requirement already satisfied: pytz>=2020.1 in /Users/fukai/projects/napari-travali2/.venv/lib/python3.13/site-packages (from pandas<3.0.0,>=2.2.3->trackarray-tensorstore==0.0.0) (2024.2)\n",
      "Requirement already satisfied: tzdata>=2022.7 in /Users/fukai/projects/napari-travali2/.venv/lib/python3.13/site-packages (from pandas<3.0.0,>=2.2.3->trackarray-tensorstore==0.0.0) (2024.2)\n",
      "Requirement already satisfied: packaging>=20.0 in /Users/fukai/projects/napari-travali2/.venv/lib/python3.13/site-packages (from pandera<0.23.0,>=0.22.1->trackarray-tensorstore==0.0.0) (24.2)\n",
      "Requirement already satisfied: pydantic in /Users/fukai/projects/napari-travali2/.venv/lib/python3.13/site-packages (from pandera<0.23.0,>=0.22.1->trackarray-tensorstore==0.0.0) (2.10.5)\n",
      "Requirement already satisfied: typeguard in /Users/fukai/projects/napari-travali2/.venv/lib/python3.13/site-packages (from pandera<0.23.0,>=0.22.1->trackarray-tensorstore==0.0.0) (4.4.1)\n",
      "Requirement already satisfied: typing_inspect>=0.6.0 in /Users/fukai/projects/napari-travali2/.venv/lib/python3.13/site-packages (from pandera<0.23.0,>=0.22.1->trackarray-tensorstore==0.0.0) (0.9.0)\n",
      "Requirement already satisfied: scipy>=1.11.2 in /Users/fukai/projects/napari-travali2/.venv/lib/python3.13/site-packages (from scikit-image<0.26.0,>=0.25.0->trackarray-tensorstore==0.0.0) (1.15.1)\n",
      "Requirement already satisfied: networkx>=3.0 in /Users/fukai/projects/napari-travali2/.venv/lib/python3.13/site-packages (from scikit-image<0.26.0,>=0.25.0->trackarray-tensorstore==0.0.0) (3.4.2)\n",
      "Requirement already satisfied: pillow>=10.1 in /Users/fukai/projects/napari-travali2/.venv/lib/python3.13/site-packages (from scikit-image<0.26.0,>=0.25.0->trackarray-tensorstore==0.0.0) (11.1.0)\n",
      "Requirement already satisfied: imageio!=2.35.0,>=2.33 in /Users/fukai/projects/napari-travali2/.venv/lib/python3.13/site-packages (from scikit-image<0.26.0,>=0.25.0->trackarray-tensorstore==0.0.0) (2.36.1)\n",
      "Requirement already satisfied: tifffile>=2022.8.12 in /Users/fukai/projects/napari-travali2/.venv/lib/python3.13/site-packages (from scikit-image<0.26.0,>=0.25.0->trackarray-tensorstore==0.0.0) (2025.1.10)\n",
      "Requirement already satisfied: lazy-loader>=0.4 in /Users/fukai/projects/napari-travali2/.venv/lib/python3.13/site-packages (from scikit-image<0.26.0,>=0.25.0->trackarray-tensorstore==0.0.0) (0.4)\n",
      "Requirement already satisfied: ml_dtypes>=0.3.1 in /Users/fukai/projects/napari-travali2/.venv/lib/python3.13/site-packages (from tensorstore<0.2.0,>=0.1.71->trackarray-tensorstore==0.0.0) (0.5.1)\n",
      "Requirement already satisfied: six>=1.5 in /Users/fukai/projects/napari-travali2/.venv/lib/python3.13/site-packages (from python-dateutil>=2.8.2->pandas<3.0.0,>=2.2.3->trackarray-tensorstore==0.0.0) (1.17.0)\n",
      "Requirement already satisfied: mypy-extensions>=0.3.0 in /Users/fukai/projects/napari-travali2/.venv/lib/python3.13/site-packages (from typing_inspect>=0.6.0->pandera<0.23.0,>=0.22.1->trackarray-tensorstore==0.0.0) (1.0.0)\n",
      "Requirement already satisfied: typing-extensions>=3.7.4 in /Users/fukai/projects/napari-travali2/.venv/lib/python3.13/site-packages (from typing_inspect>=0.6.0->pandera<0.23.0,>=0.22.1->trackarray-tensorstore==0.0.0) (4.12.2)\n",
      "Requirement already satisfied: annotated-types>=0.6.0 in /Users/fukai/projects/napari-travali2/.venv/lib/python3.13/site-packages (from pydantic->pandera<0.23.0,>=0.22.1->trackarray-tensorstore==0.0.0) (0.7.0)\n",
      "Requirement already satisfied: pydantic-core==2.27.2 in /Users/fukai/projects/napari-travali2/.venv/lib/python3.13/site-packages (from pydantic->pandera<0.23.0,>=0.22.1->trackarray-tensorstore==0.0.0) (2.27.2)\n",
      "Building wheels for collected packages: trackarray-tensorstore\n",
      "  Building wheel for trackarray-tensorstore (pyproject.toml) ... \u001b[?25ldone\n",
      "\u001b[?25h  Created wheel for trackarray-tensorstore: filename=trackarray_tensorstore-0.0.0-py3-none-any.whl size=11897 sha256=b42e472975b86aa04aa179987c0b287d58d640e0c30c424d4bf4e595d14e97d3\n",
      "  Stored in directory: /private/var/folders/81/kh0zpmbd00g39vwz69lkk4mc0000gn/T/pip-ephem-wheel-cache-3k9oy6gv/wheels/be/77/87/74e4ff0cfa613d8fdb3b3453bcb4a6bd45705e5229f57f125f\n",
      "Successfully built trackarray-tensorstore\n",
      "Installing collected packages: trackarray-tensorstore\n",
      "Successfully installed trackarray-tensorstore-0.0.0\n",
      "\n",
      "\u001b[1m[\u001b[0m\u001b[34;49mnotice\u001b[0m\u001b[1;39;49m]\u001b[0m\u001b[39;49m A new release of pip is available: \u001b[0m\u001b[31;49m25.0\u001b[0m\u001b[39;49m -> \u001b[0m\u001b[32;49m25.1\u001b[0m\n",
      "\u001b[1m[\u001b[0m\u001b[34;49mnotice\u001b[0m\u001b[1;39;49m]\u001b[0m\u001b[39;49m To update, run: \u001b[0m\u001b[32;49mpip install --upgrade pip\u001b[0m\n",
      "Note: you may need to restart the kernel to use updated packages.\n"
     ]
    }
   ],
   "source": [
    "%pip uninstall -y trackarray_tensorstore\n",
    "%pip install -U git+https://github.com/yfukai/tensorstore_trackarr@main"
   ]
  },
  {
   "cell_type": "code",
   "execution_count": 1,
   "metadata": {},
   "outputs": [],
   "source": [
    "import os\n",
    "os.environ[\"NAPARI_ASYNC\"] = \"1\""
   ]
  },
  {
   "cell_type": "code",
   "execution_count": 2,
   "metadata": {},
   "outputs": [],
   "source": [
    "#!cp \"/Volumes/work/fukai//240119-cell-picker/aligned_image5_bboxes_df.csv\" \"/Volumes/Extreme SSD/\"\n",
    "#!cp \"/Volumes/work/fukai//240119-cell-picker/aligned_image5_labels_properties.json\" \"/Volumes/Extreme SSD/\""
   ]
  },
  {
   "cell_type": "code",
   "execution_count": 3,
   "metadata": {},
   "outputs": [],
   "source": [
    "# transform df\n",
    "from pathlib import Path\n",
    "import pandas as pd\n",
    "\n",
    "#bboxes_df_path = Path(r\"/Volumes/Extreme SSD/aligned_image5_bboxes_df.csv\")\n",
    "#df = pd.read_csv(bboxes_df_path).reset_index()\n",
    "#df.to_parquet(bboxes_df_path.with_suffix(\".parquet\"))"
   ]
  },
  {
   "cell_type": "code",
   "execution_count": 4,
   "metadata": {},
   "outputs": [
    {
     "name": "stdout",
     "output_type": "stream",
     "text": [
      "(1965, 19991, 15437)\n"
     ]
    }
   ],
   "source": [
    "import pandas as pd\n",
    "import tensorstore as ts\n",
    "import json\n",
    "from copy import deepcopy\n",
    "import numpy as np\n",
    "import tensorstore as ts\n",
    "import trackarray_tensorstore as tats\n",
    "from pathlib import Path\n",
    "\n",
    "basedir = \"/Volumes/Extreme SSD/\"\n",
    "\n",
    "spec = {\n",
    "    \"driver\": \"zarr3\",\n",
    "    \"kvstore\": {\n",
    "            \"driver\": \"file\",\n",
    "            \"path\": basedir+\"aligned_image5_labels.zarr\"\n",
    "    },\n",
    "    'context': {\n",
    "            'cache_pool': {\n",
    "                'total_bytes_limit': 100_000_000\n",
    "            }\n",
    "        },\n",
    "        'recheck_cached_data':False,\n",
    "    }\n",
    "labels = ts.open(spec).result()[:,0,:,:]\n",
    "image_spec = deepcopy(spec)\n",
    "image_spec['kvstore']['path'] = basedir + \"aligned_image5_image.zarr\"\n",
    "image = ts.open(image_spec).result()[:,0,:,:]\n",
    "\n",
    "print(labels.shape)\n",
    "bboxes_df_path = Path(basedir+\"aligned_image5_bboxes_df.parquet\")\n",
    "properties_path = Path(basedir+\"aligned_image5_labels_properties.json\")\n",
    "ta = tats.read_files(labels, bboxes_df_path, properties_path)"
   ]
  },
  {
   "cell_type": "code",
   "execution_count": 6,
   "metadata": {},
   "outputs": [],
   "source": [
    "with open(basedir+\"aligned_image5_labels_properties.json\", \"r\") as file:\n",
    "    data = json.load(file)"
   ]
  },
  {
   "cell_type": "code",
   "execution_count": 7,
   "metadata": {},
   "outputs": [
    {
     "ename": "FileNotFoundError",
     "evalue": "[Errno 2] No such file or directory: 'pickup_sample_positions.csv'",
     "output_type": "error",
     "traceback": [
      "\u001b[0;31m---------------------------------------------------------------------------\u001b[0m",
      "\u001b[0;31mFileNotFoundError\u001b[0m                         Traceback (most recent call last)",
      "Cell \u001b[0;32mIn[7], line 1\u001b[0m\n\u001b[0;32m----> 1\u001b[0m pickup_sample_df \u001b[38;5;241m=\u001b[39m \u001b[43mpd\u001b[49m\u001b[38;5;241;43m.\u001b[39;49m\u001b[43mread_csv\u001b[49m\u001b[43m(\u001b[49m\u001b[38;5;124;43m\"\u001b[39;49m\u001b[38;5;124;43mpickup_sample_positions.csv\u001b[39;49m\u001b[38;5;124;43m\"\u001b[39;49m\u001b[43m,\u001b[49m\u001b[43m \u001b[49m\u001b[43mcomment\u001b[49m\u001b[38;5;241;43m=\u001b[39;49m\u001b[38;5;124;43m\"\u001b[39;49m\u001b[38;5;124;43m#\u001b[39;49m\u001b[38;5;124;43m\"\u001b[39;49m\u001b[43m)\u001b[49m\n\u001b[1;32m      2\u001b[0m pickup_sample_df\u001b[38;5;241m.\u001b[39mhead()\n",
      "File \u001b[0;32m~/projects/napari-travali2/.venv/lib/python3.13/site-packages/pandas/io/parsers/readers.py:1026\u001b[0m, in \u001b[0;36mread_csv\u001b[0;34m(filepath_or_buffer, sep, delimiter, header, names, index_col, usecols, dtype, engine, converters, true_values, false_values, skipinitialspace, skiprows, skipfooter, nrows, na_values, keep_default_na, na_filter, verbose, skip_blank_lines, parse_dates, infer_datetime_format, keep_date_col, date_parser, date_format, dayfirst, cache_dates, iterator, chunksize, compression, thousands, decimal, lineterminator, quotechar, quoting, doublequote, escapechar, comment, encoding, encoding_errors, dialect, on_bad_lines, delim_whitespace, low_memory, memory_map, float_precision, storage_options, dtype_backend)\u001b[0m\n\u001b[1;32m   1013\u001b[0m kwds_defaults \u001b[38;5;241m=\u001b[39m _refine_defaults_read(\n\u001b[1;32m   1014\u001b[0m     dialect,\n\u001b[1;32m   1015\u001b[0m     delimiter,\n\u001b[0;32m   (...)\u001b[0m\n\u001b[1;32m   1022\u001b[0m     dtype_backend\u001b[38;5;241m=\u001b[39mdtype_backend,\n\u001b[1;32m   1023\u001b[0m )\n\u001b[1;32m   1024\u001b[0m kwds\u001b[38;5;241m.\u001b[39mupdate(kwds_defaults)\n\u001b[0;32m-> 1026\u001b[0m \u001b[38;5;28;01mreturn\u001b[39;00m \u001b[43m_read\u001b[49m\u001b[43m(\u001b[49m\u001b[43mfilepath_or_buffer\u001b[49m\u001b[43m,\u001b[49m\u001b[43m \u001b[49m\u001b[43mkwds\u001b[49m\u001b[43m)\u001b[49m\n",
      "File \u001b[0;32m~/projects/napari-travali2/.venv/lib/python3.13/site-packages/pandas/io/parsers/readers.py:620\u001b[0m, in \u001b[0;36m_read\u001b[0;34m(filepath_or_buffer, kwds)\u001b[0m\n\u001b[1;32m    617\u001b[0m _validate_names(kwds\u001b[38;5;241m.\u001b[39mget(\u001b[38;5;124m\"\u001b[39m\u001b[38;5;124mnames\u001b[39m\u001b[38;5;124m\"\u001b[39m, \u001b[38;5;28;01mNone\u001b[39;00m))\n\u001b[1;32m    619\u001b[0m \u001b[38;5;66;03m# Create the parser.\u001b[39;00m\n\u001b[0;32m--> 620\u001b[0m parser \u001b[38;5;241m=\u001b[39m \u001b[43mTextFileReader\u001b[49m\u001b[43m(\u001b[49m\u001b[43mfilepath_or_buffer\u001b[49m\u001b[43m,\u001b[49m\u001b[43m \u001b[49m\u001b[38;5;241;43m*\u001b[39;49m\u001b[38;5;241;43m*\u001b[39;49m\u001b[43mkwds\u001b[49m\u001b[43m)\u001b[49m\n\u001b[1;32m    622\u001b[0m \u001b[38;5;28;01mif\u001b[39;00m chunksize \u001b[38;5;129;01mor\u001b[39;00m iterator:\n\u001b[1;32m    623\u001b[0m     \u001b[38;5;28;01mreturn\u001b[39;00m parser\n",
      "File \u001b[0;32m~/projects/napari-travali2/.venv/lib/python3.13/site-packages/pandas/io/parsers/readers.py:1620\u001b[0m, in \u001b[0;36mTextFileReader.__init__\u001b[0;34m(self, f, engine, **kwds)\u001b[0m\n\u001b[1;32m   1617\u001b[0m     \u001b[38;5;28mself\u001b[39m\u001b[38;5;241m.\u001b[39moptions[\u001b[38;5;124m\"\u001b[39m\u001b[38;5;124mhas_index_names\u001b[39m\u001b[38;5;124m\"\u001b[39m] \u001b[38;5;241m=\u001b[39m kwds[\u001b[38;5;124m\"\u001b[39m\u001b[38;5;124mhas_index_names\u001b[39m\u001b[38;5;124m\"\u001b[39m]\n\u001b[1;32m   1619\u001b[0m \u001b[38;5;28mself\u001b[39m\u001b[38;5;241m.\u001b[39mhandles: IOHandles \u001b[38;5;241m|\u001b[39m \u001b[38;5;28;01mNone\u001b[39;00m \u001b[38;5;241m=\u001b[39m \u001b[38;5;28;01mNone\u001b[39;00m\n\u001b[0;32m-> 1620\u001b[0m \u001b[38;5;28mself\u001b[39m\u001b[38;5;241m.\u001b[39m_engine \u001b[38;5;241m=\u001b[39m \u001b[38;5;28;43mself\u001b[39;49m\u001b[38;5;241;43m.\u001b[39;49m\u001b[43m_make_engine\u001b[49m\u001b[43m(\u001b[49m\u001b[43mf\u001b[49m\u001b[43m,\u001b[49m\u001b[43m \u001b[49m\u001b[38;5;28;43mself\u001b[39;49m\u001b[38;5;241;43m.\u001b[39;49m\u001b[43mengine\u001b[49m\u001b[43m)\u001b[49m\n",
      "File \u001b[0;32m~/projects/napari-travali2/.venv/lib/python3.13/site-packages/pandas/io/parsers/readers.py:1880\u001b[0m, in \u001b[0;36mTextFileReader._make_engine\u001b[0;34m(self, f, engine)\u001b[0m\n\u001b[1;32m   1878\u001b[0m     \u001b[38;5;28;01mif\u001b[39;00m \u001b[38;5;124m\"\u001b[39m\u001b[38;5;124mb\u001b[39m\u001b[38;5;124m\"\u001b[39m \u001b[38;5;129;01mnot\u001b[39;00m \u001b[38;5;129;01min\u001b[39;00m mode:\n\u001b[1;32m   1879\u001b[0m         mode \u001b[38;5;241m+\u001b[39m\u001b[38;5;241m=\u001b[39m \u001b[38;5;124m\"\u001b[39m\u001b[38;5;124mb\u001b[39m\u001b[38;5;124m\"\u001b[39m\n\u001b[0;32m-> 1880\u001b[0m \u001b[38;5;28mself\u001b[39m\u001b[38;5;241m.\u001b[39mhandles \u001b[38;5;241m=\u001b[39m \u001b[43mget_handle\u001b[49m\u001b[43m(\u001b[49m\n\u001b[1;32m   1881\u001b[0m \u001b[43m    \u001b[49m\u001b[43mf\u001b[49m\u001b[43m,\u001b[49m\n\u001b[1;32m   1882\u001b[0m \u001b[43m    \u001b[49m\u001b[43mmode\u001b[49m\u001b[43m,\u001b[49m\n\u001b[1;32m   1883\u001b[0m \u001b[43m    \u001b[49m\u001b[43mencoding\u001b[49m\u001b[38;5;241;43m=\u001b[39;49m\u001b[38;5;28;43mself\u001b[39;49m\u001b[38;5;241;43m.\u001b[39;49m\u001b[43moptions\u001b[49m\u001b[38;5;241;43m.\u001b[39;49m\u001b[43mget\u001b[49m\u001b[43m(\u001b[49m\u001b[38;5;124;43m\"\u001b[39;49m\u001b[38;5;124;43mencoding\u001b[39;49m\u001b[38;5;124;43m\"\u001b[39;49m\u001b[43m,\u001b[49m\u001b[43m \u001b[49m\u001b[38;5;28;43;01mNone\u001b[39;49;00m\u001b[43m)\u001b[49m\u001b[43m,\u001b[49m\n\u001b[1;32m   1884\u001b[0m \u001b[43m    \u001b[49m\u001b[43mcompression\u001b[49m\u001b[38;5;241;43m=\u001b[39;49m\u001b[38;5;28;43mself\u001b[39;49m\u001b[38;5;241;43m.\u001b[39;49m\u001b[43moptions\u001b[49m\u001b[38;5;241;43m.\u001b[39;49m\u001b[43mget\u001b[49m\u001b[43m(\u001b[49m\u001b[38;5;124;43m\"\u001b[39;49m\u001b[38;5;124;43mcompression\u001b[39;49m\u001b[38;5;124;43m\"\u001b[39;49m\u001b[43m,\u001b[49m\u001b[43m \u001b[49m\u001b[38;5;28;43;01mNone\u001b[39;49;00m\u001b[43m)\u001b[49m\u001b[43m,\u001b[49m\n\u001b[1;32m   1885\u001b[0m \u001b[43m    \u001b[49m\u001b[43mmemory_map\u001b[49m\u001b[38;5;241;43m=\u001b[39;49m\u001b[38;5;28;43mself\u001b[39;49m\u001b[38;5;241;43m.\u001b[39;49m\u001b[43moptions\u001b[49m\u001b[38;5;241;43m.\u001b[39;49m\u001b[43mget\u001b[49m\u001b[43m(\u001b[49m\u001b[38;5;124;43m\"\u001b[39;49m\u001b[38;5;124;43mmemory_map\u001b[39;49m\u001b[38;5;124;43m\"\u001b[39;49m\u001b[43m,\u001b[49m\u001b[43m \u001b[49m\u001b[38;5;28;43;01mFalse\u001b[39;49;00m\u001b[43m)\u001b[49m\u001b[43m,\u001b[49m\n\u001b[1;32m   1886\u001b[0m \u001b[43m    \u001b[49m\u001b[43mis_text\u001b[49m\u001b[38;5;241;43m=\u001b[39;49m\u001b[43mis_text\u001b[49m\u001b[43m,\u001b[49m\n\u001b[1;32m   1887\u001b[0m \u001b[43m    \u001b[49m\u001b[43merrors\u001b[49m\u001b[38;5;241;43m=\u001b[39;49m\u001b[38;5;28;43mself\u001b[39;49m\u001b[38;5;241;43m.\u001b[39;49m\u001b[43moptions\u001b[49m\u001b[38;5;241;43m.\u001b[39;49m\u001b[43mget\u001b[49m\u001b[43m(\u001b[49m\u001b[38;5;124;43m\"\u001b[39;49m\u001b[38;5;124;43mencoding_errors\u001b[39;49m\u001b[38;5;124;43m\"\u001b[39;49m\u001b[43m,\u001b[49m\u001b[43m \u001b[49m\u001b[38;5;124;43m\"\u001b[39;49m\u001b[38;5;124;43mstrict\u001b[39;49m\u001b[38;5;124;43m\"\u001b[39;49m\u001b[43m)\u001b[49m\u001b[43m,\u001b[49m\n\u001b[1;32m   1888\u001b[0m \u001b[43m    \u001b[49m\u001b[43mstorage_options\u001b[49m\u001b[38;5;241;43m=\u001b[39;49m\u001b[38;5;28;43mself\u001b[39;49m\u001b[38;5;241;43m.\u001b[39;49m\u001b[43moptions\u001b[49m\u001b[38;5;241;43m.\u001b[39;49m\u001b[43mget\u001b[49m\u001b[43m(\u001b[49m\u001b[38;5;124;43m\"\u001b[39;49m\u001b[38;5;124;43mstorage_options\u001b[39;49m\u001b[38;5;124;43m\"\u001b[39;49m\u001b[43m,\u001b[49m\u001b[43m \u001b[49m\u001b[38;5;28;43;01mNone\u001b[39;49;00m\u001b[43m)\u001b[49m\u001b[43m,\u001b[49m\n\u001b[1;32m   1889\u001b[0m \u001b[43m\u001b[49m\u001b[43m)\u001b[49m\n\u001b[1;32m   1890\u001b[0m \u001b[38;5;28;01massert\u001b[39;00m \u001b[38;5;28mself\u001b[39m\u001b[38;5;241m.\u001b[39mhandles \u001b[38;5;129;01mis\u001b[39;00m \u001b[38;5;129;01mnot\u001b[39;00m \u001b[38;5;28;01mNone\u001b[39;00m\n\u001b[1;32m   1891\u001b[0m f \u001b[38;5;241m=\u001b[39m \u001b[38;5;28mself\u001b[39m\u001b[38;5;241m.\u001b[39mhandles\u001b[38;5;241m.\u001b[39mhandle\n",
      "File \u001b[0;32m~/projects/napari-travali2/.venv/lib/python3.13/site-packages/pandas/io/common.py:873\u001b[0m, in \u001b[0;36mget_handle\u001b[0;34m(path_or_buf, mode, encoding, compression, memory_map, is_text, errors, storage_options)\u001b[0m\n\u001b[1;32m    868\u001b[0m \u001b[38;5;28;01melif\u001b[39;00m \u001b[38;5;28misinstance\u001b[39m(handle, \u001b[38;5;28mstr\u001b[39m):\n\u001b[1;32m    869\u001b[0m     \u001b[38;5;66;03m# Check whether the filename is to be opened in binary mode.\u001b[39;00m\n\u001b[1;32m    870\u001b[0m     \u001b[38;5;66;03m# Binary mode does not support 'encoding' and 'newline'.\u001b[39;00m\n\u001b[1;32m    871\u001b[0m     \u001b[38;5;28;01mif\u001b[39;00m ioargs\u001b[38;5;241m.\u001b[39mencoding \u001b[38;5;129;01mand\u001b[39;00m \u001b[38;5;124m\"\u001b[39m\u001b[38;5;124mb\u001b[39m\u001b[38;5;124m\"\u001b[39m \u001b[38;5;129;01mnot\u001b[39;00m \u001b[38;5;129;01min\u001b[39;00m ioargs\u001b[38;5;241m.\u001b[39mmode:\n\u001b[1;32m    872\u001b[0m         \u001b[38;5;66;03m# Encoding\u001b[39;00m\n\u001b[0;32m--> 873\u001b[0m         handle \u001b[38;5;241m=\u001b[39m \u001b[38;5;28;43mopen\u001b[39;49m\u001b[43m(\u001b[49m\n\u001b[1;32m    874\u001b[0m \u001b[43m            \u001b[49m\u001b[43mhandle\u001b[49m\u001b[43m,\u001b[49m\n\u001b[1;32m    875\u001b[0m \u001b[43m            \u001b[49m\u001b[43mioargs\u001b[49m\u001b[38;5;241;43m.\u001b[39;49m\u001b[43mmode\u001b[49m\u001b[43m,\u001b[49m\n\u001b[1;32m    876\u001b[0m \u001b[43m            \u001b[49m\u001b[43mencoding\u001b[49m\u001b[38;5;241;43m=\u001b[39;49m\u001b[43mioargs\u001b[49m\u001b[38;5;241;43m.\u001b[39;49m\u001b[43mencoding\u001b[49m\u001b[43m,\u001b[49m\n\u001b[1;32m    877\u001b[0m \u001b[43m            \u001b[49m\u001b[43merrors\u001b[49m\u001b[38;5;241;43m=\u001b[39;49m\u001b[43merrors\u001b[49m\u001b[43m,\u001b[49m\n\u001b[1;32m    878\u001b[0m \u001b[43m            \u001b[49m\u001b[43mnewline\u001b[49m\u001b[38;5;241;43m=\u001b[39;49m\u001b[38;5;124;43m\"\u001b[39;49m\u001b[38;5;124;43m\"\u001b[39;49m\u001b[43m,\u001b[49m\n\u001b[1;32m    879\u001b[0m \u001b[43m        \u001b[49m\u001b[43m)\u001b[49m\n\u001b[1;32m    880\u001b[0m     \u001b[38;5;28;01melse\u001b[39;00m:\n\u001b[1;32m    881\u001b[0m         \u001b[38;5;66;03m# Binary mode\u001b[39;00m\n\u001b[1;32m    882\u001b[0m         handle \u001b[38;5;241m=\u001b[39m \u001b[38;5;28mopen\u001b[39m(handle, ioargs\u001b[38;5;241m.\u001b[39mmode)\n",
      "\u001b[0;31mFileNotFoundError\u001b[0m: [Errno 2] No such file or directory: 'pickup_sample_positions.csv'"
     ]
    }
   ],
   "source": [
    "pickup_sample_df = pd.read_csv(\"pickup_sample_positions.csv\", comment=\"#\")\n",
    "pickup_sample_df.head()"
   ]
  },
  {
   "cell_type": "code",
   "execution_count": null,
   "metadata": {},
   "outputs": [
    {
     "name": "stderr",
     "output_type": "stream",
     "text": [
      "/Users/fukai/projects/napari-travali2/.venv/lib/python3.13/site-packages/napari/_vispy/layers/scalar_field.py:198: UserWarning: data shape (19991, 15437) exceeds GL_MAX_TEXTURE_SIZE 16384 in at least one axis and will be downsampled. Rendering is currently in 2D mode.\n",
      "  warnings.warn(\n",
      "INFO:napari_travali2._logging:Region clicked\n",
      "INFO:napari_travali2._logging:clicked at [  691 10064  8075]\n",
      "INFO:napari_travali2._logging:Region selected: coords [  691 10064  8075]\n",
      "INFO:napari_travali2._logging:window selected: (slice(None, None, None), slice(np.int64(9040), np.int64(11088), None), slice(np.int64(7051), np.int64(9099), None))\n",
      "INFO:napari_travali2._logging:Track clicked\n",
      "INFO:napari_travali2._logging:button released\n",
      "DEBUG:napari_travali2._logging:world coordinates: (np.float64(1066.0), np.float64(9475.985037717906), np.float64(8069.140867638036))\n",
      "DEBUG:napari_travali2._logging:data coordinates: [1066.          435.98503772 1018.14086764]\n"
     ]
    },
    {
     "ename": "",
     "evalue": "",
     "output_type": "error",
     "traceback": [
      "\u001b[1;31mThe Kernel crashed while executing code in the current cell or a previous cell. \n",
      "\u001b[1;31mPlease review the code in the cell(s) to identify a possible cause of the failure. \n",
      "\u001b[1;31mClick <a href='https://aka.ms/vscodeJupyterKernelCrash'>here</a> for more info. \n",
      "\u001b[1;31mView Jupyter <a href='command:jupyter.viewOutput'>log</a> for further details."
     ]
    }
   ],
   "source": [
    "from napari import Viewer\n",
    "from napari_travali2._stateful_widget import StateMachineWidget\n",
    "from napari_travali2._logging import logger\n",
    "import numpy as np\n",
    "\n",
    "logger.setLevel(\"DEBUG\")\n",
    "logger.info(\"Starting napari-travali2\")\n",
    "\n",
    "viewer = Viewer()\n",
    "widget = StateMachineWidget(viewer, ta, image, \n",
    "                            verified_track_ids=ta.attrs.get(\"verified_track_ids\", []),\n",
    "                            candidate_track_ids=ta.attrs.get(\"candidate_track_ids\", []),\n",
    "                            crop_size=2048)\n",
    "viewer.window.add_dock_widget(widget, area=\"right\")\n",
    "viewer.dims.set_current_step(0,0)"
   ]
  },
  {
   "cell_type": "code",
   "execution_count": 7,
   "metadata": {},
   "outputs": [
    {
     "data": {
      "text/html": [
       "<div>\n",
       "<style scoped>\n",
       "    .dataframe tbody tr th:only-of-type {\n",
       "        vertical-align: middle;\n",
       "    }\n",
       "\n",
       "    .dataframe tbody tr th {\n",
       "        vertical-align: top;\n",
       "    }\n",
       "\n",
       "    .dataframe thead th {\n",
       "        text-align: right;\n",
       "    }\n",
       "</style>\n",
       "<table border=\"1\" class=\"dataframe\">\n",
       "  <thead>\n",
       "    <tr style=\"text-align: right;\">\n",
       "      <th></th>\n",
       "      <th>cell ID</th>\n",
       "      <th>tube ID</th>\n",
       "      <th>eject</th>\n",
       "      <th>observed</th>\n",
       "      <th>mosaic Y [px]</th>\n",
       "      <th>mosaic X [px]</th>\n",
       "      <th>transformed mosaic Y[px]</th>\n",
       "      <th>transformed mosaic X[px]</th>\n",
       "      <th>misc</th>\n",
       "    </tr>\n",
       "  </thead>\n",
       "  <tbody>\n",
       "    <tr>\n",
       "      <th>0</th>\n",
       "      <td>52</td>\n",
       "      <td>1</td>\n",
       "      <td>2.0</td>\n",
       "      <td>x</td>\n",
       "      <td>5173</td>\n",
       "      <td>6315</td>\n",
       "      <td>5271.203996</td>\n",
       "      <td>6214.819976</td>\n",
       "      <td>15:34</td>\n",
       "    </tr>\n",
       "    <tr>\n",
       "      <th>1</th>\n",
       "      <td>56</td>\n",
       "      <td>2</td>\n",
       "      <td>3.0</td>\n",
       "      <td>x</td>\n",
       "      <td>6297</td>\n",
       "      <td>6004</td>\n",
       "      <td>6395.022546</td>\n",
       "      <td>5903.164918</td>\n",
       "      <td>NaN</td>\n",
       "    </tr>\n",
       "    <tr>\n",
       "      <th>2</th>\n",
       "      <td>59</td>\n",
       "      <td>3</td>\n",
       "      <td>3.0</td>\n",
       "      <td>o</td>\n",
       "      <td>5691</td>\n",
       "      <td>7648</td>\n",
       "      <td>5789.980833</td>\n",
       "      <td>7547.517842</td>\n",
       "      <td>NaN</td>\n",
       "    </tr>\n",
       "    <tr>\n",
       "      <th>3</th>\n",
       "      <td>62</td>\n",
       "      <td>4</td>\n",
       "      <td>3.0</td>\n",
       "      <td>o</td>\n",
       "      <td>6003</td>\n",
       "      <td>6612</td>\n",
       "      <td>6101.376960</td>\n",
       "      <td>6511.336170</td>\n",
       "      <td>NaN</td>\n",
       "    </tr>\n",
       "    <tr>\n",
       "      <th>4</th>\n",
       "      <td>68</td>\n",
       "      <td>5</td>\n",
       "      <td>3.0</td>\n",
       "      <td>x</td>\n",
       "      <td>5076</td>\n",
       "      <td>9483</td>\n",
       "      <td>5176.050444</td>\n",
       "      <td>9382.875980</td>\n",
       "      <td>16:23</td>\n",
       "    </tr>\n",
       "  </tbody>\n",
       "</table>\n",
       "</div>"
      ],
      "text/plain": [
       "   cell ID  tube ID  eject observed  mosaic Y [px]  mosaic X [px]  \\\n",
       "0       52        1    2.0        x           5173           6315   \n",
       "1       56        2    3.0        x           6297           6004   \n",
       "2       59        3    3.0        o           5691           7648   \n",
       "3       62        4    3.0        o           6003           6612   \n",
       "4       68        5    3.0        x           5076           9483   \n",
       "\n",
       "   transformed mosaic Y[px]  transformed mosaic X[px]   misc  \n",
       "0               5271.203996               6214.819976  15:34  \n",
       "1               6395.022546               5903.164918    NaN  \n",
       "2               5789.980833               7547.517842    NaN  \n",
       "3               6101.376960               6511.336170    NaN  \n",
       "4               5176.050444               9382.875980  16:23  "
      ]
     },
     "execution_count": 7,
     "metadata": {},
     "output_type": "execute_result"
    }
   ],
   "source": [
    "pickup_sample_df.head()"
   ]
  },
  {
   "cell_type": "code",
   "execution_count": 8,
   "metadata": {},
   "outputs": [
    {
     "data": {
      "text/plain": [
       "(39, 2)"
      ]
     },
     "execution_count": 8,
     "metadata": {},
     "output_type": "execute_result"
    }
   ],
   "source": [
    "pickup_sample_df[[\"transformed mosaic Y[px]\",\"transformed mosaic X[px]\"]].values.shape"
   ]
  },
  {
   "cell_type": "code",
   "execution_count": 9,
   "metadata": {},
   "outputs": [
    {
     "data": {
      "text/plain": [
       "array([[  749.        ,  5271.20399643,  6214.81997555],\n",
       "       [  749.        ,  6395.02254562,  5903.16491762],\n",
       "       [  749.        ,  5789.98083286,  7547.51784227],\n",
       "       [  749.        ,  6101.37696038,  6511.33617022],\n",
       "       [  749.        ,  5176.05044369,  9382.87598048],\n",
       "       [  749.        ,  6477.61717703,  8639.1172497 ],\n",
       "       [  749.        ,  6109.44778306, 10064.33207839],\n",
       "       [  749.        ,  6937.88315641,  5663.84847655],\n",
       "       [  749.        ,  7102.91650086,  7436.75259429],\n",
       "       [  749.        ,  8331.69131962,  7050.03635092]])"
      ]
     },
     "execution_count": 9,
     "metadata": {},
     "output_type": "execute_result"
    }
   ],
   "source": [
    "pickup_frame = 749 # from /home/fukai/AxioObserver/image_analysis/240119_cellpicker/5_pickup_association/find_pickup_positions_in_stitched_file.ipynb\n",
    "points = np.hstack((\n",
    "        np.ones((len(pickup_sample_df),1))*pickup_frame,\n",
    "        pickup_sample_df[[\"transformed mosaic Y[px]\",\"transformed mosaic X[px]\"]].values))\n",
    "points[:10]"
   ]
  },
  {
   "cell_type": "code",
   "execution_count": 10,
   "metadata": {},
   "outputs": [
    {
     "data": {
      "text/plain": [
       "<Points layer 'Picked up cells' at 0x246ba824890>"
      ]
     },
     "execution_count": 10,
     "metadata": {},
     "output_type": "execute_result"
    }
   ],
   "source": [
    "viewer.add_points(points, name=\"Picked up cells\",\n",
    "                  border_color='blue',\n",
    "                  size=75, \n",
    "                  features=dict(ID=pickup_sample_df[\"tube ID\"]),\n",
    "                  text=\"ID\",\n",
    "            face_color=\"transparent\", \n",
    "            border_width=0.15)"
   ]
  },
  {
   "cell_type": "code",
   "execution_count": 11,
   "metadata": {},
   "outputs": [],
   "source": [
    "@viewer.bind_key(\"q\", overwrite=True)\n",
    "def go_to_pickup_cell_find_time(viewer):\n",
    "    viewer.dims.set_current_step(0, pickup_frame)"
   ]
  },
  {
   "cell_type": "code",
   "execution_count": null,
   "metadata": {},
   "outputs": [
    {
     "data": {
      "text/plain": [
       "Selection({<Points layer 'Picked up cells' at 0x246ba824890>})"
      ]
     },
     "execution_count": 12,
     "metadata": {},
     "output_type": "execute_result"
    },
    {
     "name": "stderr",
     "output_type": "stream",
     "text": [
      "INFO:napari_travali2._logging:Region clicked\n",
      "INFO:napari_travali2._logging:clicked at [  749 13853  6262]\n",
      "INFO:napari_travali2._logging:Region selected: coords [  749 13853  6262]\n",
      "INFO:napari_travali2._logging:window selected: (slice(None, None, None), slice(np.int64(12829), np.int64(14877), None), slice(np.int64(5238), np.int64(7286), None))\n",
      "INFO:napari_travali2._logging:Track clicked\n",
      "INFO:napari_travali2._logging:button released\n",
      "DEBUG:napari_travali2._logging:world coordinates: (np.float64(749.0), np.float64(13837.397600826751), np.float64(6268.762183142984))\n",
      "DEBUG:napari_travali2._logging:data coordinates: [ 749.         1008.39760083 1030.76218314]\n",
      "INFO:napari_travali2._logging:Region clicked\n",
      "INFO:napari_travali2._logging:clicked at [ 749 5287 6229]\n",
      "INFO:napari_travali2._logging:Region selected: coords [ 749 5287 6229]\n",
      "INFO:napari_travali2._logging:window selected: (slice(None, None, None), slice(np.int64(4263), np.int64(6311), None), slice(np.int64(5205), np.int64(7253), None))\n",
      "INFO:napari_travali2._logging:Track clicked\n",
      "INFO:napari_travali2._logging:button released\n",
      "DEBUG:napari_travali2._logging:world coordinates: (np.float64(1129.0), np.float64(5163.425253471292), np.float64(6262.720951274719))\n",
      "DEBUG:napari_travali2._logging:data coordinates: [1129.          900.42525347 1057.72095127]\n",
      "INFO:napari_travali2._logging:clicked at [1129  900 1058] at frame 1129 and label value 45158\n",
      "INFO:napari_travali2._logging:Track selected: frame 1129 value 45158\n",
      "INFO:napari_travali2._logging:Track clicked\n",
      "INFO:napari_travali2._logging:button released\n",
      "DEBUG:napari_travali2._logging:world coordinates: (np.float64(1564.0), np.float64(5260.755355043712), np.float64(6327.930779229338))\n",
      "DEBUG:napari_travali2._logging:data coordinates: [1564.          997.75535504 1122.93077923]\n",
      "INFO:napari_travali2._logging:Track clicked\n",
      "INFO:napari_travali2._logging:button released\n",
      "DEBUG:napari_travali2._logging:world coordinates: (np.float64(744.0), np.float64(5450.232952676005), np.float64(6223.813537816393))\n",
      "DEBUG:napari_travali2._logging:data coordinates: [ 744.         1187.23295268 1018.81353782]\n",
      "INFO:napari_travali2._logging:Track clicked\n",
      "INFO:napari_travali2._logging:button released\n",
      "DEBUG:napari_travali2._logging:world coordinates: (np.float64(744.0), np.float64(6358.531624593252), np.float64(6376.266940224387))\n",
      "DEBUG:napari_travali2._logging:data coordinates: [ 744.         2095.53162459 1171.26694022]\n",
      "WARNING:transitions.core:Can't trigger event c_typed from state LABEL_SELECTED!\n",
      "WARNING:transitions.core:Can't trigger event c_typed from state LABEL_SELECTED!\n",
      "INFO:napari_travali2._logging:Transaction aborted\n",
      "INFO:napari_travali2._logging:Region clicked\n",
      "INFO:napari_travali2._logging:clicked at [  749 14791  7551]\n",
      "INFO:napari_travali2._logging:Region selected: coords [  749 14791  7551]\n",
      "INFO:napari_travali2._logging:window selected: (slice(None, None, None), slice(np.int64(13767), np.int64(15815), None), slice(np.int64(6527), np.int64(8575), None))\n",
      "INFO:napari_travali2._logging:Track clicked\n",
      "INFO:napari_travali2._logging:button released\n",
      "DEBUG:napari_travali2._logging:world coordinates: (np.float64(1119.0), np.float64(14716.75333999401), np.float64(7715.543127707782))\n",
      "DEBUG:napari_travali2._logging:data coordinates: [1119.          949.75333999 1188.54312771]\n",
      "INFO:napari_travali2._logging:Track clicked\n",
      "INFO:napari_travali2._logging:button released\n",
      "DEBUG:napari_travali2._logging:world coordinates: (np.float64(842.0), np.float64(14714.99094463784), np.float64(7744.18205224552))\n",
      "DEBUG:napari_travali2._logging:data coordinates: [ 842.          947.99094464 1217.18205225]\n",
      "INFO:napari_travali2._logging:clicked at [ 842  948 1217] at frame 842 and label value 174497\n",
      "INFO:napari_travali2._logging:Track selected: frame 842 value 174497\n",
      "INFO:napari_travali2._logging:Track clicked\n",
      "INFO:napari_travali2._logging:button released\n",
      "DEBUG:napari_travali2._logging:world coordinates: (np.float64(1675.0), np.float64(14388.417169958379), np.float64(7798.029903054348))\n",
      "DEBUG:napari_travali2._logging:data coordinates: [1675.          621.41716996 1271.02990305]\n",
      "INFO:napari_travali2._logging:Track clicked\n",
      "INFO:napari_travali2._logging:button released\n",
      "DEBUG:napari_travali2._logging:world coordinates: (np.float64(1700.0), np.float64(14335.087313689464), np.float64(7637.6601567631005))\n",
      "DEBUG:napari_travali2._logging:data coordinates: [1700.          568.08731369 1110.66015676]\n",
      "INFO:napari_travali2._logging:Track clicked\n",
      "INFO:napari_travali2._logging:button released\n",
      "DEBUG:napari_travali2._logging:world coordinates: (np.float64(1789.0), np.float64(14403.594244476262), np.float64(7895.233073099404))\n",
      "DEBUG:napari_travali2._logging:data coordinates: [1789.          636.59424448 1368.2330731 ]\n"
     ]
    }
   ],
   "source": [
    "viewer.layers.selection "
   ]
  },
  {
   "cell_type": "code",
   "execution_count": null,
   "metadata": {},
   "outputs": [],
   "source": []
  }
 ],
 "metadata": {
  "kernelspec": {
   "display_name": ".venv",
   "language": "python",
   "name": "python3"
  },
  "language_info": {
   "codemirror_mode": {
    "name": "ipython",
    "version": 3
   },
   "file_extension": ".py",
   "mimetype": "text/x-python",
   "name": "python",
   "nbconvert_exporter": "python",
   "pygments_lexer": "ipython3",
   "version": "3.13.2"
  }
 },
 "nbformat": 4,
 "nbformat_minor": 2
}
