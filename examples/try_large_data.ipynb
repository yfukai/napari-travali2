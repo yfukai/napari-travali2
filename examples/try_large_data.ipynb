{
 "cells": [
  {
   "cell_type": "code",
   "execution_count": 1,
   "metadata": {},
   "outputs": [],
   "source": [
    "import os\n",
    "os.environ[\"NAPARI_ASYNC\"] = \"1\"\n",
    "#os.environ[\"NAPARI_PERFMON\"] = \"/Users/fukai/projects/napari-travali2/examples/prefmon.json\""
   ]
  },
  {
   "cell_type": "code",
   "execution_count": 2,
   "metadata": {},
   "outputs": [
    {
     "data": {
      "text/html": [
       "<div>\n",
       "<style scoped>\n",
       "    .dataframe tbody tr th:only-of-type {\n",
       "        vertical-align: middle;\n",
       "    }\n",
       "\n",
       "    .dataframe tbody tr th {\n",
       "        vertical-align: top;\n",
       "    }\n",
       "\n",
       "    .dataframe thead th {\n",
       "        text-align: right;\n",
       "    }\n",
       "</style>\n",
       "<table border=\"1\" class=\"dataframe\">\n",
       "  <thead>\n",
       "    <tr style=\"text-align: right;\">\n",
       "      <th></th>\n",
       "      <th></th>\n",
       "      <th>min_y</th>\n",
       "      <th>min_x</th>\n",
       "      <th>max_y</th>\n",
       "      <th>max_x</th>\n",
       "    </tr>\n",
       "    <tr>\n",
       "      <th>frame</th>\n",
       "      <th>label</th>\n",
       "      <th></th>\n",
       "      <th></th>\n",
       "      <th></th>\n",
       "      <th></th>\n",
       "    </tr>\n",
       "  </thead>\n",
       "  <tbody>\n",
       "    <tr>\n",
       "      <th rowspan=\"5\" valign=\"top\">0</th>\n",
       "      <th>1</th>\n",
       "      <td>13</td>\n",
       "      <td>1865</td>\n",
       "      <td>57</td>\n",
       "      <td>1909</td>\n",
       "    </tr>\n",
       "    <tr>\n",
       "      <th>2</th>\n",
       "      <td>19</td>\n",
       "      <td>4954</td>\n",
       "      <td>60</td>\n",
       "      <td>4994</td>\n",
       "    </tr>\n",
       "    <tr>\n",
       "      <th>3</th>\n",
       "      <td>29</td>\n",
       "      <td>2832</td>\n",
       "      <td>70</td>\n",
       "      <td>2876</td>\n",
       "    </tr>\n",
       "    <tr>\n",
       "      <th>4</th>\n",
       "      <td>35</td>\n",
       "      <td>1633</td>\n",
       "      <td>67</td>\n",
       "      <td>1669</td>\n",
       "    </tr>\n",
       "    <tr>\n",
       "      <th>5</th>\n",
       "      <td>38</td>\n",
       "      <td>2756</td>\n",
       "      <td>80</td>\n",
       "      <td>2797</td>\n",
       "    </tr>\n",
       "  </tbody>\n",
       "</table>\n",
       "</div>"
      ],
      "text/plain": [
       "             min_y  min_x  max_y  max_x\n",
       "frame label                            \n",
       "0     1         13   1865     57   1909\n",
       "      2         19   4954     60   4994\n",
       "      3         29   2832     70   2876\n",
       "      4         35   1633     67   1669\n",
       "      5         38   2756     80   2797"
      ]
     },
     "execution_count": 2,
     "metadata": {},
     "output_type": "execute_result"
    }
   ],
   "source": [
    "import pandas as pd\n",
    "import tensorstore as ts\n",
    "from copy import deepcopy\n",
    "spec = {\n",
    "    \"driver\": \"zarr3\",\n",
    "    \"kvstore\": {\n",
    "            \"driver\": \"file\",\n",
    "            \"path\": \"/Volumes/Extreme SSD/aligned_image5_labels.zarr\"\n",
    "    },\n",
    "    'context': {\n",
    "            'cache_pool': {\n",
    "                'total_bytes_limit': 100_000_000\n",
    "            }\n",
    "        },\n",
    "        'recheck_cached_data':False,\n",
    "    }\n",
    "labels = ts.open(spec).result()[:,0,:,:]\n",
    "image_spec = deepcopy(spec)\n",
    "image_spec['kvstore']['path'] = '/Volumes/Extreme SSD/aligned_image5_image.zarr'\n",
    "image = ts.open(image_spec).result()[:,0,:,:]\n",
    "bboxes_df = pd.read_csv('/Volumes/Extreme SSD/aligned_image5_bboxes_df.csv').set_index([\"frame\",\"label\"])\n",
    "bboxes_df.head()"
   ]
  },
  {
   "cell_type": "code",
   "execution_count": 3,
   "metadata": {},
   "outputs": [
    {
     "name": "stdout",
     "output_type": "stream",
     "text": [
      "(1965, 19991, 15437)\n"
     ]
    }
   ],
   "source": [
    "import numpy as np\n",
    "import tensorstore as ts\n",
    "import tensorstore_trackarr as tta\n",
    "import json\n",
    "\n",
    "print(labels.shape)\n",
    "split_dict = {}\n",
    "ta = tta.TrackArray(labels, split_dict, {}, bboxes_df)"
   ]
  },
  {
   "cell_type": "code",
   "execution_count": 4,
   "metadata": {},
   "outputs": [],
   "source": [
    "from napari import Viewer\n",
    "from napari_travali2._stateful_widget import StateMachineWidget\n",
    "from napari_travali2._logging import logger\n",
    "import numpy as np\n",
    "\n",
    "logger.setLevel(\"DEBUG\")\n",
    "logger.info(\"Starting napari-travali2\")\n",
    "\n",
    "viewer = Viewer()"
   ]
  },
  {
   "cell_type": "code",
   "execution_count": 5,
   "metadata": {},
   "outputs": [
    {
     "data": {
      "text/plain": [
       "<napari._qt.widgets.qt_viewer_dock_widget.QtViewerDockWidget at 0x356351c70>"
      ]
     },
     "execution_count": 5,
     "metadata": {},
     "output_type": "execute_result"
    },
    {
     "name": "stderr",
     "output_type": "stream",
     "text": [
      "/Users/fukai/projects/napari-travali2/.venv/lib/python3.13/site-packages/napari/_vispy/layers/scalar_field.py:198: UserWarning: data shape (19991, 15437) exceeds GL_MAX_TEXTURE_SIZE 16384 in at least one axis and will be downsampled. Rendering is currently in 2D mode.\n",
      "  warnings.warn(\n",
      "INFO:napari_travali2._logging:Region clicked\n",
      "INFO:napari_travali2._logging:clicked at [   0 9297 6124]\n",
      "INFO:napari_travali2._logging:Region selected: coords [   0 9297 6124]\n",
      "INFO:napari_travali2._logging:window selected: (slice(None, None, None), slice(np.int64(7249), np.int64(11345), None), slice(np.int64(4076), np.int64(8172), None))\n",
      "INFO:napari_travali2._logging:Track clicked\n",
      "INFO:napari_travali2._logging:button released\n",
      "DEBUG:napari_travali2._logging:world coordinates: (np.float64(0.0), np.float64(9480.21992707859), np.float64(6270.068513429522))\n",
      "DEBUG:napari_travali2._logging:data coordinates: [   0.         2231.21992708 2194.06851343]\n",
      "INFO:napari_travali2._logging:clicked at [   0 2231 2194] at frame 0 and label value 922\n",
      "INFO:napari_travali2._logging:Track selected: frame 0 value 922\n",
      "INFO:napari_travali2._logging:Track clicked\n",
      "INFO:napari_travali2._logging:button released\n",
      "DEBUG:napari_travali2._logging:world coordinates: (np.float64(1.0), np.float64(9490.214105773135), np.float64(6263.738141971489))\n",
      "DEBUG:napari_travali2._logging:data coordinates: [1.00000000e+00 2.24121411e+03 2.18773814e+03]\n",
      "INFO:napari_travali2._logging:clicked at [   1 2241 2188] at frame 1 and label value 1978\n",
      "INFO:napari_travali2._logging:messagebox selected\n",
      "INFO:napari_travali2._logging:Switching forward\n"
     ]
    }
   ],
   "source": [
    "widget = StateMachineWidget(viewer, ta, image, crop_size=2048)\n",
    "viewer.window.add_dock_widget(widget, area=\"right\")"
   ]
  },
  {
   "cell_type": "code",
   "execution_count": 6,
   "metadata": {},
   "outputs": [
    {
     "data": {
      "text/plain": [
       "array([  nan, 9210., 5636.])"
      ]
     },
     "execution_count": 6,
     "metadata": {},
     "output_type": "execute_result"
    }
   ],
   "source": [
    "widget._cropped_image_layer.translate"
   ]
  },
  {
   "cell_type": "code",
   "execution_count": 6,
   "metadata": {},
   "outputs": [],
   "source": [
    "viewer.layers[\"Cropped Image\"].data = image[:,1000:2000,1000:2000]\n"
   ]
  },
  {
   "cell_type": "code",
   "execution_count": null,
   "metadata": {},
   "outputs": [],
   "source": []
  }
 ],
 "metadata": {
  "kernelspec": {
   "display_name": ".venv",
   "language": "python",
   "name": "python3"
  },
  "language_info": {
   "codemirror_mode": {
    "name": "ipython",
    "version": 3
   },
   "file_extension": ".py",
   "mimetype": "text/x-python",
   "name": "python",
   "nbconvert_exporter": "python",
   "pygments_lexer": "ipython3",
   "version": "3.13.1"
  }
 },
 "nbformat": 4,
 "nbformat_minor": 2
}
