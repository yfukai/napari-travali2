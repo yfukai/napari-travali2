{
 "cells": [
  {
   "cell_type": "code",
   "execution_count": 3,
   "metadata": {},
   "outputs": [],
   "source": [
    "import os\n",
    "os.environ[\"NAPARI_ASYNC\"] = \"1\"\n",
    "#os.environ[\"NAPARI_PERFMON\"] = \"/Users/fukai/projects/napari-travali2/examples/prefmon.json\""
   ]
  },
  {
   "cell_type": "code",
   "execution_count": 4,
   "metadata": {},
   "outputs": [
    {
     "data": {
      "text/html": [
       "<div>\n",
       "<style scoped>\n",
       "    .dataframe tbody tr th:only-of-type {\n",
       "        vertical-align: middle;\n",
       "    }\n",
       "\n",
       "    .dataframe tbody tr th {\n",
       "        vertical-align: top;\n",
       "    }\n",
       "\n",
       "    .dataframe thead th {\n",
       "        text-align: right;\n",
       "    }\n",
       "</style>\n",
       "<table border=\"1\" class=\"dataframe\">\n",
       "  <thead>\n",
       "    <tr style=\"text-align: right;\">\n",
       "      <th></th>\n",
       "      <th>frame</th>\n",
       "      <th>label</th>\n",
       "      <th>min_y</th>\n",
       "      <th>min_x</th>\n",
       "      <th>max_y</th>\n",
       "      <th>max_x</th>\n",
       "    </tr>\n",
       "  </thead>\n",
       "  <tbody>\n",
       "    <tr>\n",
       "      <th>0</th>\n",
       "      <td>0</td>\n",
       "      <td>1</td>\n",
       "      <td>13</td>\n",
       "      <td>1865</td>\n",
       "      <td>57</td>\n",
       "      <td>1909</td>\n",
       "    </tr>\n",
       "    <tr>\n",
       "      <th>1</th>\n",
       "      <td>0</td>\n",
       "      <td>2</td>\n",
       "      <td>19</td>\n",
       "      <td>4954</td>\n",
       "      <td>60</td>\n",
       "      <td>4994</td>\n",
       "    </tr>\n",
       "    <tr>\n",
       "      <th>2</th>\n",
       "      <td>0</td>\n",
       "      <td>3</td>\n",
       "      <td>29</td>\n",
       "      <td>2832</td>\n",
       "      <td>70</td>\n",
       "      <td>2876</td>\n",
       "    </tr>\n",
       "    <tr>\n",
       "      <th>3</th>\n",
       "      <td>0</td>\n",
       "      <td>4</td>\n",
       "      <td>35</td>\n",
       "      <td>1633</td>\n",
       "      <td>67</td>\n",
       "      <td>1669</td>\n",
       "    </tr>\n",
       "    <tr>\n",
       "      <th>4</th>\n",
       "      <td>0</td>\n",
       "      <td>5</td>\n",
       "      <td>38</td>\n",
       "      <td>2756</td>\n",
       "      <td>80</td>\n",
       "      <td>2797</td>\n",
       "    </tr>\n",
       "  </tbody>\n",
       "</table>\n",
       "</div>"
      ],
      "text/plain": [
       "   frame  label  min_y  min_x  max_y  max_x\n",
       "0      0      1     13   1865     57   1909\n",
       "1      0      2     19   4954     60   4994\n",
       "2      0      3     29   2832     70   2876\n",
       "3      0      4     35   1633     67   1669\n",
       "4      0      5     38   2756     80   2797"
      ]
     },
     "metadata": {},
     "output_type": "display_data"
    }
   ],
   "source": [
    "import pandas as pd\n",
    "import tensorstore as ts\n",
    "import json\n",
    "from copy import deepcopy\n",
    "spec = {\n",
    "    \"driver\": \"zarr3\",\n",
    "    \"kvstore\": {\n",
    "            \"driver\": \"file\",\n",
    "            \"path\": \"/Volumes/Extreme SSD/aligned_image5_labels.zarr\"\n",
    "    },\n",
    "    'context': {\n",
    "            'cache_pool': {\n",
    "                'total_bytes_limit': 100_000_000\n",
    "            }\n",
    "        },\n",
    "        'recheck_cached_data':False,\n",
    "    }\n",
    "labels = ts.open(spec).result()[:,0,:,:]\n",
    "image_spec = deepcopy(spec)\n",
    "image_spec['kvstore']['path'] = '/Volumes/Extreme SSD/aligned_image5_image.zarr'\n",
    "image = ts.open(image_spec).result()[:,0,:,:]\n",
    "bboxes_df = pd.read_csv('/Volumes/Extreme SSD/aligned_image5_bboxes_df.csv')\n",
    "display(bboxes_df.head())\n",
    "with open('/Volumes/Extreme SSD/aligned_image5_labels.splits.json') as f:\n",
    "    splits = json.load(f, object_hook=lambda d: {int(k): [int(_v) for _v in v] for k, v in d.items()})"
   ]
  },
  {
   "cell_type": "code",
   "execution_count": 5,
   "metadata": {},
   "outputs": [
    {
     "name": "stdout",
     "output_type": "stream",
     "text": [
      "(1965, 19991, 15437)\n"
     ]
    }
   ],
   "source": [
    "import numpy as np\n",
    "import tensorstore as ts\n",
    "import trackarray_tensorstore as tats\n",
    "\n",
    "print(labels.shape)\n",
    "ta = tats.TrackArray(labels, splits, {}, bboxes_df)"
   ]
  },
  {
   "cell_type": "code",
   "execution_count": 6,
   "metadata": {},
   "outputs": [],
   "source": [
    "from napari import Viewer\n",
    "from napari_travali2._stateful_widget import StateMachineWidget\n",
    "from napari_travali2._logging import logger\n",
    "import numpy as np\n",
    "\n",
    "logger.setLevel(\"DEBUG\")\n",
    "logger.info(\"Starting napari-travali2\")\n",
    "\n",
    "viewer = Viewer()"
   ]
  },
  {
   "cell_type": "code",
   "execution_count": 7,
   "metadata": {},
   "outputs": [],
   "source": [
    "subimage = image[:,4000:4000+2048, 4000:4000+2048]\n",
    "sublabels = labels[:,4000:4000+2048, 4000:4000+2048]\n",
    "viewer.add_image(subimage, name='image')\n",
    "viewer.add_labels(sublabels, name='labels')\n"
   ]
  },
  {
   "cell_type": "code",
   "execution_count": 11,
   "metadata": {},
   "outputs": [
    {
     "ename": "AttributeError",
     "evalue": "'Labels' object has no attribute '_label_colors'",
     "output_type": "error",
     "traceback": [
      "\u001b[0;31m---------------------------------------------------------------------------\u001b[0m",
      "\u001b[0;31mAttributeError\u001b[0m                            Traceback (most recent call last)",
      "Cell \u001b[0;32mIn[11], line 2\u001b[0m\n\u001b[1;32m      1\u001b[0m layer \u001b[38;5;241m=\u001b[39m viewer\u001b[38;5;241m.\u001b[39mlayers[\u001b[38;5;124m\"\u001b[39m\u001b[38;5;124mlabels\u001b[39m\u001b[38;5;124m\"\u001b[39m]\n\u001b[0;32m----> 2\u001b[0m \u001b[43mlayer\u001b[49m\u001b[38;5;241;43m.\u001b[39;49m\u001b[43m_label_colors\u001b[49m\n",
      "\u001b[0;31mAttributeError\u001b[0m: 'Labels' object has no attribute '_label_colors'"
     ]
    }
   ],
   "source": [
    "layer = viewer.layers[\"labels\"]\n",
    "layer._label_colors"
   ]
  },
  {
   "cell_type": "code",
   "execution_count": 39,
   "metadata": {},
   "outputs": [],
   "source": [
    "class TensorStoreWrapper:\n",
    "    def __init__(self, ts):\n",
    "        self.ts = ts\n",
    "        self.shape = ts.shape\n",
    "        self.dtype = np.dtype(str(ts.dtype.name))\n",
    "        self.chunks = ts.chunk_layout.read_chunk.shape\n",
    "        \n",
    "    def __getitem__(self, key):\n",
    "        return self.ts[key]\n",
    "    def __setitem__(self, key, value):\n",
    "        self.ts[key] = value\n",
    "    def __delitem__(self, key):\n",
    "        del self.ts[key]\n",
    "labels2 = TensorStoreWrapper(labels)\n",
    "labels_da = da.from_array(labels2, chunks=labels2.chunks,\n",
    "                          meta = np.array(labels2[:10,:10,:10]))\n",
    "assert (labels_da[0].compute() == np.array(labels[0])).all()"
   ]
  },
  {
   "cell_type": "code",
   "execution_count": 40,
   "metadata": {},
   "outputs": [],
   "source": [
    "sublabels_da = labels_da[:,4000:4000+2048, 4000:4000+2048]\n",
    "sublabels_mapped = create_mapped_array(sublabels_da, {129893:129893})"
   ]
  },
  {
   "cell_type": "code",
   "execution_count": null,
   "metadata": {},
   "outputs": [
    {
     "name": "stderr",
     "output_type": "stream",
     "text": [
      "/Users/fukai/projects/napari-travali2/.venv/lib/python3.13/site-packages/napari/_vispy/layers/scalar_field.py:198: UserWarning: data shape (19991, 15437) exceeds GL_MAX_TEXTURE_SIZE 16384 in at least one axis and will be downsampled. Rendering is currently in 2D mode.\n",
      "  warnings.warn(\n",
      "INFO:napari_travali2._logging:Region clicked\n",
      "INFO:napari_travali2._logging:clicked at [    0 11429  4441]\n",
      "INFO:napari_travali2._logging:Region selected: coords [    0 11429  4441]\n",
      "INFO:napari_travali2._logging:window selected: (slice(None, None, None), slice(np.int64(10405), np.int64(12453), None), slice(np.int64(3417), np.int64(5465), None))\n",
      "INFO:napari_travali2._logging:Track clicked\n",
      "INFO:napari_travali2._logging:button released\n",
      "DEBUG:napari_travali2._logging:world coordinates: (np.float64(0.0), np.float64(11352.997118652294), np.float64(4416.266295215537))\n",
      "DEBUG:napari_travali2._logging:data coordinates: [  0.         947.99711865 999.26629522]\n",
      "INFO:napari_travali2._logging:clicked at [  0 948 999] at frame 0 and label value 1122\n",
      "INFO:napari_travali2._logging:Track selected: frame 0 value 1122\n",
      "2025-01-17 16:51:42.113 Python[89202:138347293] TSM AdjustCapsLockLEDForKeyTransitionHandling - _ISSetPhysicalKeyboardCapsLockLED Inhibit\n",
      "INFO:napari_travali2._logging:Track finalized\n",
      "INFO:napari_travali2._logging:Track clicked\n",
      "INFO:napari_travali2._logging:button released\n",
      "DEBUG:napari_travali2._logging:world coordinates: (np.float64(0.0), np.float64(11577.686423755047), np.float64(4344.135801233325))\n",
      "DEBUG:napari_travali2._logging:data coordinates: [   0.         1172.68642376  927.13580123]\n",
      "INFO:napari_travali2._logging:clicked at [   0 1173  927] at frame 0 and label value 1149\n",
      "INFO:napari_travali2._logging:Track selected: frame 0 value 1149\n",
      "INFO:napari_travali2._logging:Track finalized\n",
      "INFO:napari_travali2._logging:Track clicked\n",
      "INFO:napari_travali2._logging:button released\n",
      "DEBUG:napari_travali2._logging:world coordinates: (np.float64(237.0), np.float64(11534.2305766676), np.float64(4353.100461654529))\n",
      "DEBUG:napari_travali2._logging:data coordinates: [ 237.         1129.23057667  936.10046165]\n",
      "INFO:napari_travali2._logging:clicked at [ 237 1129  936] at frame 237 and label value 9376\n",
      "INFO:napari_travali2._logging:Track selected: frame 237 value 9376\n",
      "INFO:napari_travali2._logging:Current daughter candidates count: 0\n",
      "INFO:napari_travali2._logging:messagebox selected\n",
      "INFO:napari_travali2._logging:False selected\n",
      "/Users/fukai/projects/napari-travali2/.venv/lib/python3.13/site-packages/napari/_vispy/layers/scalar_field.py:198: UserWarning: data shape (19991, 15437) exceeds GL_MAX_TEXTURE_SIZE 16384 in at least one axis and will be downsampled. Rendering is currently in 2D mode.\n",
      "  warnings.warn(\n",
      "INFO:napari_travali2._logging:label redraw finish\n",
      "INFO:napari_travali2._logging:Track clicked\n",
      "INFO:napari_travali2._logging:button released\n",
      "DEBUG:napari_travali2._logging:world coordinates: (np.float64(282.0), np.float64(11525.39482121931), np.float64(4342.248383373191))\n",
      "DEBUG:napari_travali2._logging:data coordinates: [ 282.         1120.39482122  925.24838337]\n",
      "INFO:napari_travali2._logging:clicked at [ 282 1120  925] at frame 282 and label value 10969\n",
      "INFO:napari_travali2._logging:messagebox selected\n",
      "INFO:napari_travali2._logging:Switching forward\n",
      "/Users/fukai/projects/napari-travali2/.venv/lib/python3.13/site-packages/napari/_vispy/layers/scalar_field.py:198: UserWarning: data shape (19991, 15437) exceeds GL_MAX_TEXTURE_SIZE 16384 in at least one axis and will be downsampled. Rendering is currently in 2D mode.\n",
      "  warnings.warn(\n",
      "INFO:napari_travali2._logging:label redraw finish\n",
      "INFO:napari_travali2._logging:Current daughter candidates count: 0\n",
      "INFO:napari_travali2._logging:messagebox selected\n",
      "INFO:napari_travali2._logging:select selected\n",
      "INFO:napari_travali2._logging:Track clicked\n",
      "INFO:napari_travali2._logging:button released\n",
      "DEBUG:napari_travali2._logging:world coordinates: (np.float64(479.0), np.float64(11519.789344983104), np.float64(4323.0296077061985))\n",
      "DEBUG:napari_travali2._logging:data coordinates: [ 479.         1114.78934498  906.02960771]\n",
      "INFO:napari_travali2._logging:clicked at [ 479 1115  906] at frame 479 and label value 19144\n",
      "INFO:napari_travali2._logging:Current daughter candidates count: 1\n",
      "INFO:napari_travali2._logging:messagebox selected\n",
      "INFO:napari_travali2._logging:select selected\n",
      "INFO:napari_travali2._logging:Track clicked\n",
      "INFO:napari_travali2._logging:button released\n",
      "DEBUG:napari_travali2._logging:world coordinates: (np.float64(479.0), np.float64(11537.80694717091), np.float64(4319.025696108908))\n",
      "DEBUG:napari_travali2._logging:data coordinates: [ 479.         1132.80694717  902.02569611]\n",
      "INFO:napari_travali2._logging:clicked at [ 479 1133  902] at frame 479 and label value 19145\n",
      "INFO:napari_travali2._logging:Current daughter candidates count: 2\n",
      "INFO:napari_travali2._logging:Track finalized\n",
      "INFO:napari_travali2._logging:Track clicked\n",
      "INFO:napari_travali2._logging:button released\n",
      "DEBUG:napari_travali2._logging:world coordinates: (np.float64(666.0), np.float64(11528.468918189805), np.float64(4344.2945229619245))\n",
      "DEBUG:napari_travali2._logging:data coordinates: [ 666.         1123.46891819  927.29452296]\n",
      "INFO:napari_travali2._logging:clicked at [ 666 1123  927] at frame 666 and label value 19144\n",
      "INFO:napari_travali2._logging:Track selected: frame 666 value 19144\n",
      "INFO:napari_travali2._logging:Track clicked\n",
      "INFO:napari_travali2._logging:button released\n",
      "DEBUG:napari_travali2._logging:world coordinates: (np.float64(188.0), np.float64(11522.062659634139), np.float64(4315.866750621163))\n",
      "DEBUG:napari_travali2._logging:data coordinates: [ 188.         1117.06265963  898.86675062]\n",
      "INFO:napari_travali2._logging:Track finalized\n"
     ]
    }
   ],
   "source": [
    "widget = StateMachineWidget(viewer, ta, image, crop_size=2048)\n",
    "viewer.window.add_dock_widget(widget, area=\"right\")\n",
    "viewer.dims.set_current_step(0,0)"
   ]
  },
  {
   "cell_type": "code",
   "execution_count": null,
   "metadata": {},
   "outputs": [
    {
     "name": "stderr",
     "output_type": "stream",
     "text": [
      "INFO:napari_travali2._logging:Region clicked\n",
      "INFO:napari_travali2._logging:clicked at [   0 8961 5237]\n",
      "INFO:napari_travali2._logging:Region selected: coords [   0 8961 5237]\n",
      "INFO:napari_travali2._logging:window selected: (slice(None, None, None), slice(np.int64(7937), np.int64(9985), None), slice(np.int64(4213), np.int64(6261), None))\n",
      "INFO:napari_travali2._logging:Track clicked\n",
      "INFO:napari_travali2._logging:button released\n",
      "DEBUG:napari_travali2._logging:world coordinates: (np.float64(0.0), np.float64(8944.734322482238), np.float64(5216.96805923945))\n",
      "DEBUG:napari_travali2._logging:data coordinates: [   0.         1007.73432248 1003.96805924]\n",
      "INFO:napari_travali2._logging:clicked at [   0 1008 1004] at frame 0 and label value 872\n",
      "INFO:napari_travali2._logging:Track selected: frame 0 value 872\n",
      "INFO:napari_travali2._logging:Current daughter candidates count: 0\n",
      "INFO:napari_travali2._logging:messagebox selected\n",
      "INFO:napari_travali2._logging:select selected\n",
      "INFO:napari_travali2._logging:Track clicked\n",
      "INFO:napari_travali2._logging:button released\n",
      "DEBUG:napari_travali2._logging:world coordinates: (np.float64(8.0), np.float64(8943.31308065284), np.float64(5208.097123971213))\n",
      "DEBUG:napari_travali2._logging:data coordinates: [   8.         1006.31308065  995.09712397]\n",
      "INFO:napari_travali2._logging:clicked at [   8 1006  995] at frame 8 and label value 2265\n",
      "INFO:napari_travali2._logging:Current daughter candidates count: 1\n",
      "INFO:napari_travali2._logging:messagebox selected\n",
      "INFO:napari_travali2._logging:select selected\n",
      "INFO:napari_travali2._logging:Track clicked\n",
      "INFO:napari_travali2._logging:button released\n",
      "DEBUG:napari_travali2._logging:world coordinates: (np.float64(8.0), np.float64(8968.505873537624), np.float64(5233.289916855995))\n",
      "DEBUG:napari_travali2._logging:data coordinates: [   8.         1031.50587354 1020.28991686]\n",
      "INFO:napari_travali2._logging:Track clicked\n",
      "INFO:napari_travali2._logging:button released\n",
      "DEBUG:napari_travali2._logging:world coordinates: (np.float64(8.0), np.float64(8965.356774427026), np.float64(5226.991718634799))\n",
      "DEBUG:napari_travali2._logging:data coordinates: [   8.         1028.35677443 1013.99171863]\n",
      "INFO:napari_travali2._logging:clicked at [   8 1028 1014] at frame 8 and label value 2266\n",
      "INFO:napari_travali2._logging:Current daughter candidates count: 2\n"
     ]
    }
   ],
   "source": []
  },
  {
   "cell_type": "code",
   "execution_count": null,
   "metadata": {},
   "outputs": [],
   "source": []
  }
 ],
 "metadata": {
  "kernelspec": {
   "display_name": ".venv",
   "language": "python",
   "name": "python3"
  },
  "language_info": {
   "codemirror_mode": {
    "name": "ipython",
    "version": 3
   },
   "file_extension": ".py",
   "mimetype": "text/x-python",
   "name": "python",
   "nbconvert_exporter": "python",
   "pygments_lexer": "ipython3",
   "version": "3.13.1"
  }
 },
 "nbformat": 4,
 "nbformat_minor": 2
}
