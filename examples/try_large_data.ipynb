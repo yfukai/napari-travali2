{
 "cells": [
  {
   "cell_type": "code",
   "execution_count": 1,
   "metadata": {},
   "outputs": [],
   "source": [
    "import os\n",
    "os.environ[\"NAPARI_ASYNC\"] = \"1\"\n",
    "#os.environ[\"NAPARI_PERFMON\"] = \"/Users/fukai/projects/napari-travali2/examples/prefmon.json\""
   ]
  },
  {
   "cell_type": "code",
   "execution_count": 2,
   "metadata": {},
   "outputs": [
    {
     "data": {
      "text/html": [
       "<div>\n",
       "<style scoped>\n",
       "    .dataframe tbody tr th:only-of-type {\n",
       "        vertical-align: middle;\n",
       "    }\n",
       "\n",
       "    .dataframe tbody tr th {\n",
       "        vertical-align: top;\n",
       "    }\n",
       "\n",
       "    .dataframe thead th {\n",
       "        text-align: right;\n",
       "    }\n",
       "</style>\n",
       "<table border=\"1\" class=\"dataframe\">\n",
       "  <thead>\n",
       "    <tr style=\"text-align: right;\">\n",
       "      <th></th>\n",
       "      <th>frame</th>\n",
       "      <th>label</th>\n",
       "      <th>min_y</th>\n",
       "      <th>min_x</th>\n",
       "      <th>max_y</th>\n",
       "      <th>max_x</th>\n",
       "    </tr>\n",
       "  </thead>\n",
       "  <tbody>\n",
       "    <tr>\n",
       "      <th>0</th>\n",
       "      <td>0</td>\n",
       "      <td>1</td>\n",
       "      <td>13</td>\n",
       "      <td>1865</td>\n",
       "      <td>57</td>\n",
       "      <td>1909</td>\n",
       "    </tr>\n",
       "    <tr>\n",
       "      <th>1</th>\n",
       "      <td>0</td>\n",
       "      <td>2</td>\n",
       "      <td>19</td>\n",
       "      <td>4954</td>\n",
       "      <td>60</td>\n",
       "      <td>4994</td>\n",
       "    </tr>\n",
       "    <tr>\n",
       "      <th>2</th>\n",
       "      <td>0</td>\n",
       "      <td>3</td>\n",
       "      <td>29</td>\n",
       "      <td>2832</td>\n",
       "      <td>70</td>\n",
       "      <td>2876</td>\n",
       "    </tr>\n",
       "    <tr>\n",
       "      <th>3</th>\n",
       "      <td>0</td>\n",
       "      <td>4</td>\n",
       "      <td>35</td>\n",
       "      <td>1633</td>\n",
       "      <td>67</td>\n",
       "      <td>1669</td>\n",
       "    </tr>\n",
       "    <tr>\n",
       "      <th>4</th>\n",
       "      <td>0</td>\n",
       "      <td>5</td>\n",
       "      <td>38</td>\n",
       "      <td>2756</td>\n",
       "      <td>80</td>\n",
       "      <td>2797</td>\n",
       "    </tr>\n",
       "  </tbody>\n",
       "</table>\n",
       "</div>"
      ],
      "text/plain": [
       "   frame  label  min_y  min_x  max_y  max_x\n",
       "0      0      1     13   1865     57   1909\n",
       "1      0      2     19   4954     60   4994\n",
       "2      0      3     29   2832     70   2876\n",
       "3      0      4     35   1633     67   1669\n",
       "4      0      5     38   2756     80   2797"
      ]
     },
     "metadata": {},
     "output_type": "display_data"
    }
   ],
   "source": [
    "import pandas as pd\n",
    "import tensorstore as ts\n",
    "import json\n",
    "from copy import deepcopy\n",
    "spec = {\n",
    "    \"driver\": \"zarr3\",\n",
    "    \"kvstore\": {\n",
    "            \"driver\": \"file\",\n",
    "            \"path\": \"/Volumes/Extreme SSD/aligned_image5_labels.zarr\"\n",
    "    },\n",
    "    'context': {\n",
    "            'cache_pool': {\n",
    "                'total_bytes_limit': 100_000_000\n",
    "            }\n",
    "        },\n",
    "        'recheck_cached_data':False,\n",
    "    }\n",
    "labels = ts.open(spec).result()[:,0,:,:]\n",
    "image_spec = deepcopy(spec)\n",
    "image_spec['kvstore']['path'] = '/Volumes/Extreme SSD/aligned_image5_image.zarr'\n",
    "image = ts.open(image_spec).result()[:,0,:,:]\n",
    "bboxes_df = pd.read_csv('/Volumes/Extreme SSD/aligned_image5_bboxes_df.csv')\n",
    "display(bboxes_df.head())\n",
    "with open('/Volumes/Extreme SSD/aligned_image5_labels.splits.json') as f:\n",
    "    splits = json.load(f, object_hook=lambda d: {int(k): [int(_v) for _v in v] for k, v in d.items()})"
   ]
  },
  {
   "cell_type": "code",
   "execution_count": 3,
   "metadata": {},
   "outputs": [
    {
     "name": "stdout",
     "output_type": "stream",
     "text": [
      "(1965, 19991, 15437)\n"
     ]
    }
   ],
   "source": [
    "import numpy as np\n",
    "import tensorstore as ts\n",
    "import trackarray_tensorstore as tats\n",
    "\n",
    "print(labels.shape)\n",
    "ta = tats.TrackArray(labels, splits, {}, bboxes_df)"
   ]
  },
  {
   "cell_type": "code",
   "execution_count": 4,
   "metadata": {},
   "outputs": [],
   "source": [
    "from napari import Viewer\n",
    "from napari_travali2._stateful_widget import StateMachineWidget\n",
    "from napari_travali2._logging import logger\n",
    "import numpy as np\n",
    "\n",
    "logger.setLevel(\"DEBUG\")\n",
    "logger.info(\"Starting napari-travali2\")\n",
    "\n",
    "viewer = Viewer()"
   ]
  },
  {
   "cell_type": "code",
   "execution_count": null,
   "metadata": {},
   "outputs": [
    {
     "name": "stderr",
     "output_type": "stream",
     "text": [
      "/Users/fukai/projects/napari-travali2/.venv/lib/python3.13/site-packages/napari/_vispy/layers/scalar_field.py:198: UserWarning: data shape (19991, 15437) exceeds GL_MAX_TEXTURE_SIZE 16384 in at least one axis and will be downsampled. Rendering is currently in 2D mode.\n",
      "  warnings.warn(\n",
      "INFO:napari_travali2._logging:Region clicked\n",
      "INFO:napari_travali2._logging:clicked at [    0 10769  5124]\n",
      "INFO:napari_travali2._logging:Region selected: coords [    0 10769  5124]\n",
      "INFO:napari_travali2._logging:window selected: (slice(None, None, None), slice(np.int64(9745), np.int64(11793), None), slice(np.int64(4100), np.int64(6148), None))\n",
      "INFO:napari_travali2._logging:Track clicked\n",
      "INFO:napari_travali2._logging:button released\n",
      "DEBUG:napari_travali2._logging:world coordinates: (np.float64(75.0), np.float64(11531.733911778325), np.float64(5568.950963560612))\n",
      "DEBUG:napari_travali2._logging:data coordinates: [  75.         1786.73391178 1468.95096356]\n",
      "INFO:napari_travali2._logging:clicked at [  75 1787 1469] at frame 75 and label value 1147\n",
      "INFO:napari_travali2._logging:Track selected: frame 75 value 1147\n",
      "INFO:napari_travali2._logging:Track finalized\n",
      "INFO:napari_travali2._logging:Track clicked\n",
      "INFO:napari_travali2._logging:button released\n",
      "DEBUG:napari_travali2._logging:world coordinates: (np.float64(236.0), np.float64(11597.734396540996), np.float64(5509.2063057791775))\n",
      "DEBUG:napari_travali2._logging:data coordinates: [ 236.         1852.73439654 1409.20630578]\n",
      "INFO:napari_travali2._logging:clicked at [ 236 1853 1409] at frame 236 and label value 8646\n",
      "INFO:napari_travali2._logging:Track selected: frame 236 value 8646\n",
      "INFO:napari_travali2._logging:Track finalized\n",
      "INFO:napari_travali2._logging:Track clicked\n",
      "INFO:napari_travali2._logging:button released\n",
      "DEBUG:napari_travali2._logging:world coordinates: (np.float64(530.0), np.float64(11663.854428621233), np.float64(5774.826434653232))\n",
      "DEBUG:napari_travali2._logging:data coordinates: [ 530.         1918.85442862 1674.82643465]\n",
      "INFO:napari_travali2._logging:clicked at [ 530 1919 1675] at frame 530 and label value 10902\n",
      "INFO:napari_travali2._logging:Track selected: frame 530 value 10902\n",
      "/Users/fukai/projects/napari-travali2/.venv/lib/python3.13/site-packages/napari/_vispy/layers/scalar_field.py:198: UserWarning: data shape (19991, 15437) exceeds GL_MAX_TEXTURE_SIZE 16384 in at least one axis and will be downsampled. Rendering is currently in 2D mode.\n",
      "  warnings.warn(\n",
      "INFO:napari_travali2._logging:label redraw finish\n",
      "INFO:napari_travali2._logging:messagebox selected\n",
      "INFO:napari_travali2._logging:Track clicked\n",
      "INFO:napari_travali2._logging:button released\n",
      "DEBUG:napari_travali2._logging:world coordinates: (np.float64(861.0), np.float64(11610.27440262518), np.float64(5790.216442120184))\n",
      "DEBUG:napari_travali2._logging:data coordinates: [ 861.         1865.27440263 1690.21644212]\n",
      "INFO:napari_travali2._logging:clicked at [ 861 1865 1690] at frame 861 and label value 43184\n",
      "INFO:napari_travali2._logging:messagebox selected\n",
      "INFO:napari_travali2._logging:Switching forward\n",
      "/Users/fukai/projects/napari-travali2/.venv/lib/python3.13/site-packages/napari/_vispy/layers/scalar_field.py:198: UserWarning: data shape (19991, 15437) exceeds GL_MAX_TEXTURE_SIZE 16384 in at least one axis and will be downsampled. Rendering is currently in 2D mode.\n",
      "  warnings.warn(\n",
      "INFO:napari_travali2._logging:label redraw finish\n",
      "INFO:napari_travali2._logging:messagebox selected\n",
      "INFO:napari_travali2._logging:Track clicked\n",
      "INFO:napari_travali2._logging:button released\n",
      "DEBUG:napari_travali2._logging:world coordinates: (np.float64(936.0), np.float64(11584.94624710405), np.float64(5761.729490233361))\n",
      "DEBUG:napari_travali2._logging:data coordinates: [ 936.         1839.9462471  1661.72949023]\n",
      "INFO:napari_travali2._logging:clicked at [ 936 1840 1662] at frame 936 and label value 48345\n",
      "INFO:napari_travali2._logging:messagebox selected\n",
      "INFO:napari_travali2._logging:Switching forward\n",
      "/Users/fukai/projects/napari-travali2/.venv/lib/python3.13/site-packages/napari/_vispy/layers/scalar_field.py:198: UserWarning: data shape (19991, 15437) exceeds GL_MAX_TEXTURE_SIZE 16384 in at least one axis and will be downsampled. Rendering is currently in 2D mode.\n",
      "  warnings.warn(\n",
      "INFO:napari_travali2._logging:label redraw finish\n",
      "INFO:napari_travali2._logging:messagebox selected\n",
      "INFO:napari_travali2._logging:Track clicked\n",
      "INFO:napari_travali2._logging:button released\n",
      "DEBUG:napari_travali2._logging:world coordinates: (np.float64(978.0), np.float64(11575.35808721647), np.float64(5792.795534239213))\n",
      "DEBUG:napari_travali2._logging:data coordinates: [ 978.         1830.35808722 1692.79553424]\n",
      "INFO:napari_travali2._logging:clicked at [ 978 1830 1693] at frame 978 and label value 39557\n",
      "INFO:napari_travali2._logging:messagebox selected\n",
      "INFO:napari_travali2._logging:Switching forward\n",
      "2025-01-21 11:52:21.829 Python[68976:24170811] TSM AdjustCapsLockLEDForKeyTransitionHandling - _ISSetPhysicalKeyboardCapsLockLED Inhibit\n",
      "INFO:napari_travali2._logging:Track finalized\n"
     ]
    }
   ],
   "source": [
    "widget = StateMachineWidget(viewer, ta, image, crop_size=2048)\n",
    "viewer.window.add_dock_widget(widget, area=\"right\")\n",
    "viewer.dims.set_current_step(0,0)"
   ]
  },
  {
   "cell_type": "code",
   "execution_count": null,
   "metadata": {},
   "outputs": [],
   "source": []
  }
 ],
 "metadata": {
  "kernelspec": {
   "display_name": ".venv",
   "language": "python",
   "name": "python3"
  },
  "language_info": {
   "codemirror_mode": {
    "name": "ipython",
    "version": 3
   },
   "file_extension": ".py",
   "mimetype": "text/x-python",
   "name": "python",
   "nbconvert_exporter": "python",
   "pygments_lexer": "ipython3",
   "version": "3.13.1"
  }
 },
 "nbformat": 4,
 "nbformat_minor": 2
}
