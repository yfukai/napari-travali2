{
 "cells": [
  {
   "cell_type": "code",
   "execution_count": 1,
   "metadata": {},
   "outputs": [],
   "source": [
    "#import json\n",
    "#with open('/Volumes/Extreme SSD/aligned_image5_labels.splits_updated.json') as f:\n",
    "#    splits = json.load(f, object_hook=lambda d: {int(k): [int(_v) for _v in v] for k, v in d.items()})\n",
    "#with open('/Volumes/Extreme SSD/aligned_image5_labels_properties.json',\"w\") as f:\n",
    "#    json.dump({\n",
    "#        \"splits\": splits,\n",
    "#        \"termination_annotations\": {\n",
    "#            5406: 'disappeared'\n",
    "#        },\n",
    "#        \"attrs\":{}\n",
    "#    },f,indent=2)\n",
    "#import pandas as pd\n",
    "#bboxes_df = pd.read_csv('/Volumes/Extreme SSD/aligned_image5_bboxes_df_updated.csv')\n",
    "#bboxes_df.to_csv('/Volumes/Extreme SSD/aligned_image5_bboxes_df_updated2.csv')"
   ]
  },
  {
   "cell_type": "code",
   "execution_count": 2,
   "metadata": {},
   "outputs": [],
   "source": [
    "import os\n",
    "os.environ[\"NAPARI_ASYNC\"] = \"1\"\n",
    "#os.environ[\"NAPARI_PERFMON\"] = \"/Users/fukai/projects/napari-travali2/examples/prefmon.json\""
   ]
  },
  {
   "cell_type": "code",
   "execution_count": 3,
   "metadata": {},
   "outputs": [],
   "source": [
    "import pandas as pd\n",
    "import tensorstore as ts\n",
    "import json\n",
    "from copy import deepcopy\n",
    "spec = {\n",
    "    \"driver\": \"zarr3\",\n",
    "    \"kvstore\": {\n",
    "            \"driver\": \"file\",\n",
    "            \"path\": \"/Volumes/Extreme SSD/aligned_image5_labels.zarr\"\n",
    "    },\n",
    "    'context': {\n",
    "            'cache_pool': {\n",
    "                'total_bytes_limit': 100_000_000\n",
    "            }\n",
    "        },\n",
    "        'recheck_cached_data':False,\n",
    "    }\n",
    "labels = ts.open(spec).result()[:,0,:,:]\n",
    "image_spec = deepcopy(spec)\n",
    "image_spec['kvstore']['path'] = '/Volumes/Extreme SSD/aligned_image5_image.zarr'\n",
    "image = ts.open(image_spec).result()[:,0,:,:]\n",
    "# bboxes_df = pd.read_csv('/Volumes/Extreme SSD/aligned_image5_bboxes_df.csv')\n",
    "# display(bboxes_df.head())\n",
    "# with open('/Volumes/Extreme SSD/aligned_image5_labels.splits.json') as f:\n",
    "#     splits = json.load(f, object_hook=lambda d: {int(k): [int(_v) for _v in v] for k, v in d.items()})"
   ]
  },
  {
   "cell_type": "code",
   "execution_count": 4,
   "metadata": {},
   "outputs": [
    {
     "name": "stdout",
     "output_type": "stream",
     "text": [
      "(1965, 19991, 15437)\n"
     ]
    }
   ],
   "source": [
    "import numpy as np\n",
    "import tensorstore as ts\n",
    "import trackarray_tensorstore as tats\n",
    "from pathlib import Path\n",
    "\n",
    "print(labels.shape)\n",
    "bboxes_df_path = Path('/Volumes/Extreme SSD/aligned_image5_bboxes_df_updated2.csv')\n",
    "properties_path = Path('/Volumes/Extreme SSD/aligned_image5_labels_properties.json')\n",
    "ta = tats.read_files(labels, bboxes_df_path, properties_path)"
   ]
  },
  {
   "cell_type": "code",
   "execution_count": null,
   "metadata": {},
   "outputs": [],
   "source": [
    "if ta.attrs == {}:\n",
    "    ta.attrs = {\n",
    "        \"verified_track_ids\": [62395, 5407, 5406, 983],\n",
    "        \"candidate_track_ids\" : [145067, 173436]\n",
    "    }"
   ]
  },
  {
   "cell_type": "code",
   "execution_count": null,
   "metadata": {},
   "outputs": [
    {
     "data": {
      "text/plain": [
       "{'verified_track_ids': [145067, 983, 62395, 173436, 5406, 5407],\n",
       " 'candidate_track_ids': []}"
      ]
     },
     "execution_count": 4,
     "metadata": {},
     "output_type": "execute_result"
    }
   ],
   "source": [
    "ta.attrs"
   ]
  },
  {
   "cell_type": "code",
   "execution_count": null,
   "metadata": {},
   "outputs": [],
   "source": [
    "from napari import Viewer\n",
    "from napari_travali2._stateful_widget import StateMachineWidget\n",
    "from napari_travali2._logging import logger\n",
    "import numpy as np\n",
    "\n",
    "logger.setLevel(\"DEBUG\")\n",
    "logger.info(\"Starting napari-travali2\")\n",
    "\n",
    "viewer = Viewer()"
   ]
  },
  {
   "cell_type": "code",
   "execution_count": null,
   "metadata": {},
   "outputs": [
    {
     "name": "stderr",
     "output_type": "stream",
     "text": [
      "/Users/fukai/projects/napari-travali2/.venv/lib/python3.13/site-packages/napari/_vispy/layers/scalar_field.py:198: UserWarning: data shape (19991, 15437) exceeds GL_MAX_TEXTURE_SIZE 16384 in at least one axis and will be downsampled. Rendering is currently in 2D mode.\n",
      "  warnings.warn(\n"
     ]
    }
   ],
   "source": [
    "widget = StateMachineWidget(viewer, ta, image, \n",
    "                            verified_track_ids=ta.attrs.get(\"verified_track_ids\", []),\n",
    "                            candidate_track_ids=ta.attrs.get(\"candidate_track_ids\", []),\n",
    "                            crop_size=2048)\n",
    "viewer.window.add_dock_widget(widget, area=\"right\")\n",
    "viewer.dims.set_current_step(0,0)"
   ]
  },
  {
   "cell_type": "code",
   "execution_count": 10,
   "metadata": {},
   "outputs": [
    {
     "name": "stdout",
     "output_type": "stream",
     "text": [
      "{np.uint32(62395), np.uint32(5407), np.uint32(5406), np.uint32(983)}\n"
     ]
    }
   ],
   "source": [
    "print(widget.verified_track_ids)"
   ]
  },
  {
   "cell_type": "code",
   "execution_count": 22,
   "metadata": {},
   "outputs": [],
   "source": []
  },
  {
   "cell_type": "code",
   "execution_count": 16,
   "metadata": {},
   "outputs": [],
   "source": [
    "bboxes_df = tats._trackarr._bbox_dict_to_df(widget.ta._bboxes_dict)"
   ]
  },
  {
   "cell_type": "code",
   "execution_count": 20,
   "metadata": {},
   "outputs": [],
   "source": [
    "termination_annotations = widget.ta.termination_annotations"
   ]
  },
  {
   "cell_type": "code",
   "execution_count": 21,
   "metadata": {},
   "outputs": [
    {
     "data": {
      "text/plain": [
       "{np.uint32(5406): 'disappeared'}"
      ]
     },
     "execution_count": 21,
     "metadata": {},
     "output_type": "execute_result"
    }
   ],
   "source": [
    "termination_annotations"
   ]
  },
  {
   "cell_type": "code",
   "execution_count": 22,
   "metadata": {},
   "outputs": [],
   "source": [
    "bboxes_df.to_csv('/Volumes/Extreme SSD/aligned_image5_bboxes_df_updated.csv', index=False)"
   ]
  },
  {
   "cell_type": "code",
   "execution_count": 23,
   "metadata": {},
   "outputs": [],
   "source": [
    "splits = widget.ta.splits"
   ]
  },
  {
   "cell_type": "code",
   "execution_count": 24,
   "metadata": {},
   "outputs": [],
   "source": [
    "with open('/Volumes/Extreme SSD/aligned_image5_labels.splits_updated.json', 'w') as f:\n",
    "    json.dump(splits, f)"
   ]
  },
  {
   "cell_type": "code",
   "execution_count": null,
   "metadata": {},
   "outputs": [],
   "source": []
  }
 ],
 "metadata": {
  "kernelspec": {
   "display_name": ".venv",
   "language": "python",
   "name": "python3"
  },
  "language_info": {
   "codemirror_mode": {
    "name": "ipython",
    "version": 3
   },
   "file_extension": ".py",
   "mimetype": "text/x-python",
   "name": "python",
   "nbconvert_exporter": "python",
   "pygments_lexer": "ipython3",
   "version": "3.13.1"
  }
 },
 "nbformat": 4,
 "nbformat_minor": 2
}
