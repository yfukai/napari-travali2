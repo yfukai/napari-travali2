{
 "cells": [
  {
   "cell_type": "code",
   "execution_count": 5,
   "id": "f6860acd",
   "metadata": {},
   "outputs": [],
   "source": [
    "import os\n",
    "os.environ[\"NAPARI_ASYNC\"] = \"1\""
   ]
  },
  {
   "cell_type": "code",
   "execution_count": null,
   "id": "defa7ca5",
   "metadata": {},
   "outputs": [],
   "source": [
    "!ls /Users/fukai"
   ]
  },
  {
   "cell_type": "code",
   "execution_count": 6,
   "id": "c53fa9ec",
   "metadata": {},
   "outputs": [],
   "source": [
    "import zarr\n",
    "from dask import array as da\n",
    "image = da.from_zarr(\"/Users/fukai/image.zarr\")\n",
    "labels = da.from_zarr(\"/Users/fukai/labels.zarr\")"
   ]
  },
  {
   "cell_type": "code",
   "execution_count": 3,
   "id": "43eac84c",
   "metadata": {},
   "outputs": [
    {
     "name": "stdout",
     "output_type": "stream",
     "text": [
      "(10, 234, 234)\n"
     ]
    }
   ],
   "source": [
    "import pandas as pd\n",
    "import tensorstore as ts\n",
    "import json\n",
    "from copy import deepcopy\n",
    "import numpy as np\n",
    "import tensorstore as ts\n",
    "import trackarray_tensorstore as tats\n",
    "from pathlib import Path\n",
    "\n",
    "basedir = \"/Users/fukai/\"\n",
    "\n",
    "spec = {\n",
    "    \"driver\": \"zarr3\",\n",
    "    \"kvstore\": {\n",
    "            \"driver\": \"file\",\n",
    "            \"path\": basedir+\"labels.zarr\"\n",
    "    },\n",
    "    'context': {\n",
    "            'cache_pool': {\n",
    "                'total_bytes_limit': 100_000_000\n",
    "            }\n",
    "        },\n",
    "        'recheck_cached_data':False,\n",
    "    }\n",
    "labels = ts.open(spec).result()[:,:,:]\n",
    "image_spec = deepcopy(spec)\n",
    "image_spec['kvstore']['path'] = basedir + \"image.zarr\"\n",
    "image = ts.open(image_spec).result()[:,:,:]\n",
    "\n",
    "print(labels.shape)\n",
    "bboxes_df_path = Path(basedir+\"bbox.csv\")\n",
    "properties_path = Path(basedir+\"splits.json\")\n",
    "ta = tats.read_files(labels, bboxes_df_path, properties_path)"
   ]
  },
  {
   "cell_type": "code",
   "execution_count": null,
   "id": "5cb69a49",
   "metadata": {},
   "outputs": [
    {
     "name": "stderr",
     "output_type": "stream",
     "text": [
      "INFO:napari_travali2._logging:Region clicked\n",
      "INFO:napari_travali2._logging:clicked at [  0 143 180]\n",
      "INFO:napari_travali2._logging:Region selected: coords [  0 143 180]\n",
      "INFO:napari_travali2._logging:window selected: (slice(None, None, None), slice(np.int64(93), np.int64(193), None), slice(np.int64(130), np.int64(230), None))\n",
      "INFO:napari_travali2._logging:()\n",
      "INFO:napari_travali2._logging:Track clicked\n",
      "INFO:napari_travali2._logging:button released\n",
      "DEBUG:napari_travali2._logging:world coordinates: (np.float64(3.0), np.float64(144.66757555054843), np.float64(180.98630938502362))\n",
      "DEBUG:napari_travali2._logging:data coordinates: [ 3.         51.66757555 50.98630939]\n",
      "INFO:napari_travali2._logging:clicked at [ 3 52 51] at frame 3 and label value 2\n",
      "INFO:napari_travali2._logging:Track selected: frame 3 value 2\n",
      "INFO:napari_travali2._logging:()\n",
      "INFO:napari_travali2._logging:Track clicked\n",
      "INFO:napari_travali2._logging:button released\n",
      "DEBUG:napari_travali2._logging:world coordinates: (np.float64(5.0), np.float64(129.9764584831089), np.float64(207.8370182180042))\n",
      "DEBUG:napari_travali2._logging:data coordinates: [ 5.         36.97645848 77.83701822]\n",
      "INFO:napari_travali2._logging:clicked at [ 5 37 78] at frame 5 and label value 3\n",
      "INFO:napari_travali2._logging:messagebox selected\n",
      "INFO:napari_travali2._logging:Switching forward\n",
      "INFO:napari_travali2._logging:Prepare redraw layer\n",
      "INFO:napari_travali2._logging:label redraw finish\n",
      "INFO:napari_travali2._logging:messagebox selected\n",
      "INFO:napari_travali2._logging:Transaction aborted\n",
      "INFO:napari_travali2._logging:Region clicked\n",
      "INFO:napari_travali2._logging:clicked at [  0 145 178]\n",
      "INFO:napari_travali2._logging:Region selected: coords [  0 145 178]\n",
      "INFO:napari_travali2._logging:window selected: (slice(None, None, None), slice(np.int64(95), np.int64(195), None), slice(np.int64(128), np.int64(228), None))\n",
      "INFO:napari_travali2._logging:()\n",
      "INFO:napari_travali2._logging:Track clicked\n",
      "INFO:napari_travali2._logging:button released\n",
      "DEBUG:napari_travali2._logging:world coordinates: (np.float64(0.0), np.float64(144.62389812688332), np.float64(178.90032789384335))\n",
      "DEBUG:napari_travali2._logging:data coordinates: [ 0.         49.62389813 50.90032789]\n",
      "INFO:napari_travali2._logging:clicked at [ 0 50 51] at frame 0 and label value 2\n",
      "INFO:napari_travali2._logging:Track selected: frame 0 value 2\n",
      "INFO:napari_travali2._logging:()\n",
      "INFO:napari_travali2._logging:Track clicked\n",
      "INFO:napari_travali2._logging:button released\n",
      "DEBUG:napari_travali2._logging:world coordinates: (np.float64(6.0), np.float64(115.08074661034442), np.float64(211.60881707286856))\n",
      "DEBUG:napari_travali2._logging:data coordinates: [ 6.         20.08074661 83.60881707]\n",
      "INFO:napari_travali2._logging:clicked at [ 6 20 84] at frame 6 and label value 3\n",
      "INFO:napari_travali2._logging:messagebox selected\n",
      "INFO:napari_travali2._logging:Switching forward\n",
      "INFO:napari_travali2._logging:Prepare redraw layer\n",
      "INFO:napari_travali2._logging:label redraw finish\n",
      "INFO:napari_travali2._logging:messagebox selected\n",
      "INFO:napari_travali2._logging:()\n",
      "INFO:napari_travali2._logging:Track clicked\n",
      "INFO:napari_travali2._logging:button released\n",
      "DEBUG:napari_travali2._logging:world coordinates: (np.float64(4.0), np.float64(238.00135917022948), np.float64(145.13672616065605))\n",
      "DEBUG:napari_travali2._logging:data coordinates: [  4.         143.00135917  17.13672616]\n",
      "INFO:napari_travali2._logging:Transaction aborted\n"
     ]
    }
   ],
   "source": [
    "from napari import Viewer\n",
    "from napari_travali2._stateful_widget import StateMachineWidget\n",
    "from napari_travali2._logging import logger\n",
    "import numpy as np\n",
    "\n",
    "logger.setLevel(\"DEBUG\")\n",
    "logger.info(\"Starting napari-travali2\")\n",
    "\n",
    "viewer = Viewer()\n",
    "widget = StateMachineWidget(viewer, ta, image, \n",
    "                            verified_track_ids=ta.attrs.get(\"verified_track_ids\", []),\n",
    "                            candidate_track_ids=ta.attrs.get(\"candidate_track_ids\", []),\n",
    "                            crop_size=100)\n",
    "viewer.window.add_dock_widget(widget, area=\"right\")\n",
    "viewer.dims.set_current_step(0,0)"
   ]
  },
  {
   "cell_type": "code",
   "execution_count": null,
   "id": "c6049f03",
   "metadata": {},
   "outputs": [],
   "source": []
  }
 ],
 "metadata": {
  "kernelspec": {
   "display_name": "base",
   "language": "python",
   "name": "python3"
  },
  "language_info": {
   "codemirror_mode": {
    "name": "ipython",
    "version": 3
   },
   "file_extension": ".py",
   "mimetype": "text/x-python",
   "name": "python",
   "nbconvert_exporter": "python",
   "pygments_lexer": "ipython3",
   "version": "3.12.10"
  }
 },
 "nbformat": 4,
 "nbformat_minor": 5
}
