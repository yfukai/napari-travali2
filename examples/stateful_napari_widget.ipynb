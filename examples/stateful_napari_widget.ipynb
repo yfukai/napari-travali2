{
 "cells": [
  {
   "cell_type": "code",
   "execution_count": 1,
   "metadata": {},
   "outputs": [],
   "source": [
    "from copy import deepcopy\n",
    "def get_spec(ndims):\n",
    "    return {\n",
    "        \"driver\": \"zarr3\",\n",
    "        \"kvstore\": {\n",
    "            \"driver\": \"file\",\n",
    "            \"path\": None\n",
    "        },\n",
    "    \"metadata\": {\n",
    "        \"shape\": None,\n",
    "        \"chunk_grid\": {\"name\": \"regular\", \"configuration\": {\"chunk_shape\": ([1]*(ndims-2))+[32768, 32768]}},\n",
    "        \"chunk_key_encoding\": {\"name\": \"default\"},\n",
    "        \"codecs\": [{\"name\" : \"sharding_indexed\",\n",
    "                    \"configuration\":{\n",
    "                    \"chunk_shape\": ([1]*(ndims-2))+[512, 512],\n",
    "                    \"codecs\":[{\"name\": \"blosc\", \"configuration\": {\"cname\": \"lz4\", \"clevel\": 5}}],\n",
    "                    }}],\n",
    "        \"data_type\": \"uint32\",\n",
    "    },\n",
    "    'context': {\n",
    "            'cache_pool': {\n",
    "                'total_bytes_limit': 100_000_000\n",
    "            }\n",
    "        },\n",
    "        'recheck_cached_data':'open',\n",
    "    }\n",
    "\n",
    "def get_read_spec(filename):\n",
    "    read_spec = deepcopy(get_spec(3))\n",
    "    read_spec[\"kvstore\"][\"path\"] = str(filename)\n",
    "    del read_spec[\"metadata\"][\"shape\"]\n",
    "    return read_spec\n",
    "\n",
    "def get_write_spec(filename, shape):\n",
    "    write_spec = deepcopy(get_spec(3))\n",
    "    write_spec[\"create\"] = True\n",
    "    write_spec[\"delete_existing\"] = True\n",
    "    write_spec[\"kvstore\"][\"path\"] = str(filename)\n",
    "    write_spec[\"metadata\"][\"shape\"] = list(shape)\n",
    "    return write_spec"
   ]
  },
  {
   "cell_type": "code",
   "execution_count": 2,
   "metadata": {},
   "outputs": [
    {
     "name": "stdout",
     "output_type": "stream",
     "text": [
      "{7: [10, 9], 8: [12, 11], 9: [17, 16]}\n"
     ]
    }
   ],
   "source": [
    "import numpy as np\n",
    "import tensorstore as ts\n",
    "import tensorstore_trackarr as tta\n",
    "import json\n",
    "\n",
    "labels = np.load(\"original_labels.npy\")\n",
    "write_spec = get_write_spec(\"labels.zarr\", labels.shape)\n",
    "ts.open(write_spec).result().write(labels).result()\n",
    "\n",
    "read_spec = get_read_spec(\"labels.zarr\")\n",
    "labels = ts.open(read_spec).result()\n",
    "\n",
    "def convert_keys_and_values_to_int(d):\n",
    "    return {int(key): [int(v) for v in value] for key, value in d.items()}\n",
    "\n",
    "with open(\"original_split_dict.json\", \"r\") as f:\n",
    "    split_dict = json.load(f, object_hook=convert_keys_and_values_to_int)\n",
    "print(split_dict)\n",
    "ta = tta.TrackArray(labels, split_dict, {})\n",
    "\n",
    "image = np.load(\"image.npy\")"
   ]
  },
  {
   "cell_type": "code",
   "execution_count": 3,
   "metadata": {},
   "outputs": [
    {
     "data": {
      "text/plain": [
       "<napari._qt.widgets.qt_viewer_dock_widget.QtViewerDockWidget at 0x2b44cff50>"
      ]
     },
     "execution_count": 3,
     "metadata": {},
     "output_type": "execute_result"
    }
   ],
   "source": [
    "from napari import Viewer\n",
    "from napari_travali2._stateful_widget import StateMachineWidget\n",
    "from napari_travali2._logging import logger\n",
    "import numpy as np\n",
    "\n",
    "logger.setLevel(\"DEBUG\")\n",
    "logger.info(\"Starting napari-travali2\")\n",
    "\n",
    "viewer = Viewer()\n",
    "viewer.add_image(image)\n",
    "labels_layer = viewer.add_labels(ta.array)\n",
    "labels_layer.editable=False\n",
    "widget = StateMachineWidget(viewer, labels_layer, ta)\n",
    "viewer.window.add_dock_widget(widget, area=\"right\")"
   ]
  },
  {
   "cell_type": "code",
   "execution_count": 4,
   "metadata": {},
   "outputs": [
    {
     "data": {
      "text/plain": [
       "{7: [10, 9],\n",
       " 8: [12, 11],\n",
       " 9: [17, 16],\n",
       " np.uint32(1): [np.uint32(4), np.uint32(2)]}"
      ]
     },
     "execution_count": 4,
     "metadata": {},
     "output_type": "execute_result"
    }
   ],
   "source": [
    "ta.splits"
   ]
  },
  {
   "cell_type": "code",
   "execution_count": 2,
   "metadata": {},
   "outputs": [
    {
     "data": {
      "text/plain": [
       "<napari._qt.widgets.qt_viewer_dock_widget.QtViewerDockWidget at 0x2b59485f0>"
      ]
     },
     "execution_count": 2,
     "metadata": {},
     "output_type": "execute_result"
    },
    {
     "name": "stderr",
     "output_type": "stream",
     "text": [
      "Traceback (most recent call last):\n",
      "  File \"/Users/fukai/projects/napari-travali2/.venv/lib/python3.13/site-packages/app_model/backends/qt/_qaction.py\", line 59, in _on_triggered\n",
      "    self._app.commands.execute_command(self._command_id).result()\n",
      "    ~~~~~~~~~~~~~~~~~~~~~~~~~~~~~~~~~~^^^^^^^^^^^^^^^^^^\n",
      "  File \"/Users/fukai/projects/napari-travali2/.venv/lib/python3.13/site-packages/app_model/registries/_commands_reg.py\", line 247, in execute_command\n",
      "    raise e\n",
      "  File \"/Users/fukai/projects/napari-travali2/.venv/lib/python3.13/site-packages/app_model/registries/_commands_reg.py\", line 242, in execute_command\n",
      "    future.set_result(cmd(*args, **kwargs))\n",
      "                      ~~~^^^^^^^^^^^^^^^^^\n",
      "  File \"/Users/fukai/projects/napari-travali2/.venv/lib/python3.13/site-packages/in_n_out/_store.py\", line 934, in _exec\n",
      "    result = func(*args, **kwargs)\n",
      "  File \"/Users/fukai/projects/napari-travali2/.venv/lib/python3.13/site-packages/in_n_out/_store.py\", line 804, in _exec\n",
      "    result = func(**bound.arguments)\n",
      "  File \"/Users/fukai/projects/napari-travali2/.venv/lib/python3.13/site-packages/napari/_qt/_qapp_model/qactions/_file.py\", line 105, in _save_selected_layers\n",
      "    qt_viewer._save_layers_dialog(selected=True)\n",
      "    ~~~~~~~~~~~~~~~~~~~~~~~~~~~~~^^^^^^^^^^^^^^^\n",
      "  File \"/Users/fukai/projects/napari-travali2/.venv/lib/python3.13/site-packages/napari/_qt/qt_viewer.py\", line 756, in _save_layers_dialog\n",
      "    raise OSError(trans._('Nothing to save'))\n",
      "OSError: Nothing to save\n",
      "Traceback (most recent call last):\n",
      "  File \"/Users/fukai/projects/napari-travali2/.venv/lib/python3.13/site-packages/app_model/backends/qt/_qaction.py\", line 59, in _on_triggered\n",
      "    self._app.commands.execute_command(self._command_id).result()\n",
      "    ~~~~~~~~~~~~~~~~~~~~~~~~~~~~~~~~~~^^^^^^^^^^^^^^^^^^\n",
      "  File \"/Users/fukai/projects/napari-travali2/.venv/lib/python3.13/site-packages/app_model/registries/_commands_reg.py\", line 247, in execute_command\n",
      "    raise e\n",
      "  File \"/Users/fukai/projects/napari-travali2/.venv/lib/python3.13/site-packages/app_model/registries/_commands_reg.py\", line 242, in execute_command\n",
      "    future.set_result(cmd(*args, **kwargs))\n",
      "                      ~~~^^^^^^^^^^^^^^^^^\n",
      "  File \"/Users/fukai/projects/napari-travali2/.venv/lib/python3.13/site-packages/in_n_out/_store.py\", line 934, in _exec\n",
      "    result = func(*args, **kwargs)\n",
      "  File \"/Users/fukai/projects/napari-travali2/.venv/lib/python3.13/site-packages/in_n_out/_store.py\", line 804, in _exec\n",
      "    result = func(**bound.arguments)\n",
      "  File \"/Users/fukai/projects/napari-travali2/.venv/lib/python3.13/site-packages/napari/_qt/_qapp_model/qactions/_file.py\", line 105, in _save_selected_layers\n",
      "    qt_viewer._save_layers_dialog(selected=True)\n",
      "    ~~~~~~~~~~~~~~~~~~~~~~~~~~~~~^^^^^^^^^^^^^^^\n",
      "  File \"/Users/fukai/projects/napari-travali2/.venv/lib/python3.13/site-packages/napari/_qt/qt_viewer.py\", line 756, in _save_layers_dialog\n",
      "    raise OSError(trans._('Nothing to save'))\n",
      "OSError: Nothing to save\n"
     ]
    }
   ],
   "source": [
    "from transitions import Machine\n",
    "from qtpy.QtWidgets import QPushButton, QVBoxLayout, QWidget, QLabel\n",
    "from qtpy.QtCore import Qt\n",
    "from napari import Viewer\n",
    "\n",
    "class StateMachineWidget(QWidget):\n",
    "    def __init__(self, viewer: Viewer):\n",
    "        super().__init__()\n",
    "\n",
    "        self.viewer = viewer\n",
    "\n",
    "        # Set up the layout\n",
    "        self.layout = QVBoxLayout()\n",
    "\n",
    "        # Add a label to show the current state\n",
    "        self.state_label = QLabel(\"Current State: idle\")\n",
    "        self.layout.addWidget(self.state_label)\n",
    "\n",
    "        # Add buttons to trigger transitions\n",
    "        self.start_button = QPushButton(\"Start\")\n",
    "        self.pause_button = QPushButton(\"Pause\")\n",
    "        self.reset_button = QPushButton(\"Reset\")\n",
    "\n",
    "        self.layout.addWidget(self.start_button)\n",
    "        self.layout.addWidget(self.pause_button)\n",
    "        self.layout.addWidget(self.reset_button)\n",
    "\n",
    "        self.setLayout(self.layout)\n",
    "\n",
    "        # Define the state machine\n",
    "        self.states = [\"idle\", \"running\", \"paused\"]\n",
    "        self.machine = Machine(model=self, states=self.states, initial=\"idle\")\n",
    "\n",
    "        # Add transitions\n",
    "        self.machine.add_transition(\"start\", \"idle\", \"running\")\n",
    "        self.machine.add_transition(\"pause\", \"running\", \"paused\")\n",
    "        self.machine.add_transition(\"resume\", \"paused\", \"running\")\n",
    "        self.machine.add_transition(\"reset\", [\"paused\", \"running\"], \"idle\")\n",
    "\n",
    "        # Connect buttons to state transitions\n",
    "        self.start_button.clicked.connect(self.on_start)\n",
    "        self.pause_button.clicked.connect(self.on_pause)\n",
    "        self.reset_button.clicked.connect(self.on_reset)\n",
    "\n",
    "        # Bind viewer key events to transitions\n",
    "        self.viewer.bind_key(\"s\", lambda _viewer: self.on_start(), overwrite=True)  # Press 'S' to start\n",
    "        self.viewer.bind_key(\"p\", lambda _viewer: self.on_pause(), overwrite=True)  # Press 'P' to pause/resume\n",
    "        self.viewer.bind_key(\"r\", lambda _viewer: self.on_reset(), overwrite=True)  # Press 'R' to reset\n",
    "\n",
    "    def on_start(self):\n",
    "        if self.state == \"idle\":\n",
    "            self.start()\n",
    "            self.update_label()\n",
    "\n",
    "    def on_pause(self):\n",
    "        if self.state == \"running\":\n",
    "            self.pause()\n",
    "            self.update_label()\n",
    "        elif self.state == \"paused\":\n",
    "            self.resume()\n",
    "            self.update_label()\n",
    "\n",
    "    def on_reset(self):\n",
    "        if self.state in [\"running\", \"paused\"]:\n",
    "            self.reset()\n",
    "            self.update_label()\n",
    "\n",
    "    def update_label(self):\n",
    "        self.state_label.setText(f\"Current State: {self.state}\")\n",
    "\n",
    "viewer = Viewer()\n",
    "widget = StateMachineWidget(viewer)\n",
    "viewer.window.add_dock_widget(widget, area=\"right\")"
   ]
  },
  {
   "cell_type": "code",
   "execution_count": null,
   "metadata": {},
   "outputs": [],
   "source": []
  }
 ],
 "metadata": {
  "kernelspec": {
   "display_name": ".venv",
   "language": "python",
   "name": "python3"
  },
  "language_info": {
   "codemirror_mode": {
    "name": "ipython",
    "version": 3
   },
   "file_extension": ".py",
   "mimetype": "text/x-python",
   "name": "python",
   "nbconvert_exporter": "python",
   "pygments_lexer": "ipython3",
   "version": "3.13.1"
  }
 },
 "nbformat": 4,
 "nbformat_minor": 2
}
