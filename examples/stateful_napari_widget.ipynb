{
 "cells": [
  {
   "cell_type": "code",
   "execution_count": 1,
   "metadata": {},
   "outputs": [],
   "source": [
    "import os\n",
    "os.environ[\"NAPARI_ASYNC\"] = \"1\"\n",
    "#os.environ[\"NAPARI_PERFMON\"] = \"/Users/fukai/projects/napari-travali2/examples/prefmon.json\""
   ]
  },
  {
   "cell_type": "code",
   "execution_count": 2,
   "metadata": {},
   "outputs": [],
   "source": [
    "from copy import deepcopy\n",
    "def get_spec(ndims):\n",
    "    return {\n",
    "        \"driver\": \"zarr3\",\n",
    "        \"kvstore\": {\n",
    "            \"driver\": \"file\",\n",
    "            \"path\": None\n",
    "        },\n",
    "    \"metadata\": {\n",
    "        \"shape\": None,\n",
    "        \"chunk_grid\": {\"name\": \"regular\", \"configuration\": {\"chunk_shape\": ([1]*(ndims-2))+[32768, 32768]}},\n",
    "        \"chunk_key_encoding\": {\"name\": \"default\"},\n",
    "        \"codecs\": [{\"name\" : \"sharding_indexed\",\n",
    "                    \"configuration\":{\n",
    "                    \"chunk_shape\": ([1]*(ndims-2))+[512, 512],\n",
    "                    \"codecs\":[{\"name\": \"blosc\", \"configuration\": {\"cname\": \"lz4\", \"clevel\": 5}}],\n",
    "                    }}],\n",
    "        \"data_type\": \"uint32\",\n",
    "    },\n",
    "    'context': {\n",
    "            'cache_pool': {\n",
    "                'total_bytes_limit': 100_000_000\n",
    "            }\n",
    "        },\n",
    "        'recheck_cached_data':'open',\n",
    "    }\n",
    "\n",
    "def get_read_spec(filename):\n",
    "    read_spec = deepcopy(get_spec(3))\n",
    "    read_spec[\"kvstore\"][\"path\"] = str(filename)\n",
    "    del read_spec[\"metadata\"][\"shape\"]\n",
    "    return read_spec\n",
    "\n",
    "def get_write_spec(filename, shape):\n",
    "    write_spec = deepcopy(get_spec(3))\n",
    "    write_spec[\"create\"] = True\n",
    "    write_spec[\"delete_existing\"] = True\n",
    "    write_spec[\"kvstore\"][\"path\"] = str(filename)\n",
    "    write_spec[\"metadata\"][\"shape\"] = list(shape)\n",
    "    return write_spec"
   ]
  },
  {
   "cell_type": "code",
   "execution_count": 3,
   "metadata": {},
   "outputs": [
    {
     "name": "stdout",
     "output_type": "stream",
     "text": [
      "{7: [10, 9], 8: [12, 11], 9: [17, 16]}\n"
     ]
    }
   ],
   "source": [
    "import numpy as np\n",
    "import tensorstore as ts\n",
    "import trackarray_tensorstore as tats\n",
    "import json\n",
    "\n",
    "labels = np.load(\"original_labels.npy\")\n",
    "write_spec = get_write_spec(\"labels.zarr\", labels.shape)\n",
    "ts.open(write_spec).result().write(labels).result()\n",
    "\n",
    "read_spec = get_read_spec(\"labels.zarr\")\n",
    "labels = ts.open(read_spec).result()\n",
    "\n",
    "def convert_keys_and_values_to_int(d):\n",
    "    return {int(key): [int(v) for v in value] for key, value in d.items()}\n",
    "\n",
    "with open(\"original_split_dict.json\", \"r\") as f:\n",
    "    split_dict = json.load(f, object_hook=convert_keys_and_values_to_int)\n",
    "print(split_dict)\n",
    "ta = tats.TrackArray(labels, split_dict, {})\n",
    "\n",
    "image = np.load(\"image.npy\")"
   ]
  },
  {
   "cell_type": "code",
   "execution_count": 4,
   "metadata": {},
   "outputs": [
    {
     "ename": "FileNotFoundError",
     "evalue": "[Errno 2] No such file or directory: '/Users/fukai/projects/napari-travali2/examples/prefmon.json'",
     "output_type": "error",
     "traceback": [
      "\u001b[0;31m---------------------------------------------------------------------------\u001b[0m",
      "\u001b[0;31mFileNotFoundError\u001b[0m                         Traceback (most recent call last)",
      "Cell \u001b[0;32mIn[4], line 2\u001b[0m\n\u001b[1;32m      1\u001b[0m \u001b[38;5;28;01mfrom\u001b[39;00m\u001b[38;5;250m \u001b[39m\u001b[38;5;21;01mnapari\u001b[39;00m\u001b[38;5;250m \u001b[39m\u001b[38;5;28;01mimport\u001b[39;00m Viewer\n\u001b[0;32m----> 2\u001b[0m \u001b[38;5;28;01mfrom\u001b[39;00m\u001b[38;5;250m \u001b[39m\u001b[38;5;21;01mnapari_travali2\u001b[39;00m\u001b[38;5;21;01m.\u001b[39;00m\u001b[38;5;21;01m_stateful_widget\u001b[39;00m\u001b[38;5;250m \u001b[39m\u001b[38;5;28;01mimport\u001b[39;00m StateMachineWidget\n\u001b[1;32m      3\u001b[0m \u001b[38;5;28;01mfrom\u001b[39;00m\u001b[38;5;250m \u001b[39m\u001b[38;5;21;01mnapari_travali2\u001b[39;00m\u001b[38;5;21;01m.\u001b[39;00m\u001b[38;5;21;01m_logging\u001b[39;00m\u001b[38;5;250m \u001b[39m\u001b[38;5;28;01mimport\u001b[39;00m logger\n\u001b[1;32m      4\u001b[0m \u001b[38;5;28;01mimport\u001b[39;00m\u001b[38;5;250m \u001b[39m\u001b[38;5;21;01mnumpy\u001b[39;00m\u001b[38;5;250m \u001b[39m\u001b[38;5;28;01mas\u001b[39;00m\u001b[38;5;250m \u001b[39m\u001b[38;5;21;01mnp\u001b[39;00m\n",
      "File \u001b[0;32m~/projects/napari-travali2/src/napari_travali2/_stateful_widget.py:7\u001b[0m\n\u001b[1;32m      5\u001b[0m \u001b[38;5;28;01mfrom\u001b[39;00m\u001b[38;5;250m \u001b[39m\u001b[38;5;21;01m.\u001b[39;00m\u001b[38;5;21;01m_transitions\u001b[39;00m\u001b[38;5;250m \u001b[39m\u001b[38;5;28;01mimport\u001b[39;00m ViewerState, TRANSITIONS, STATE_EXPLANATION\n\u001b[1;32m      6\u001b[0m \u001b[38;5;28;01mfrom\u001b[39;00m\u001b[38;5;250m \u001b[39m\u001b[38;5;21;01m.\u001b[39;00m\u001b[38;5;21;01m_logging\u001b[39;00m\u001b[38;5;250m \u001b[39m\u001b[38;5;28;01mimport\u001b[39;00m logger, log_error\n\u001b[0;32m----> 7\u001b[0m \u001b[38;5;28;01mfrom\u001b[39;00m\u001b[38;5;250m \u001b[39m\u001b[38;5;21;01m.\u001b[39;00m\u001b[38;5;21;01m_gui_utils\u001b[39;00m\u001b[38;5;250m \u001b[39m\u001b[38;5;28;01mimport\u001b[39;00m choose_direction_by_mbox, get_annotation_of_track_end,choose_division_by_mbox, ask_draw_label\n\u001b[1;32m      8\u001b[0m \u001b[38;5;28;01mfrom\u001b[39;00m\u001b[38;5;250m \u001b[39m\u001b[38;5;21;01m.\u001b[39;00m\u001b[38;5;21;01m_consts\u001b[39;00m\u001b[38;5;250m \u001b[39m\u001b[38;5;28;01mimport\u001b[39;00m SELECTED_COLOR, DAUGHTER_COLORS\n\u001b[1;32m      9\u001b[0m \u001b[38;5;28;01mimport\u001b[39;00m\u001b[38;5;250m \u001b[39m\u001b[38;5;21;01mnumpy\u001b[39;00m\u001b[38;5;250m \u001b[39m\u001b[38;5;28;01mas\u001b[39;00m\u001b[38;5;250m \u001b[39m\u001b[38;5;21;01mnp\u001b[39;00m\n",
      "File \u001b[0;32m~/projects/napari-travali2/src/napari_travali2/_gui_utils.py:1\u001b[0m\n\u001b[0;32m----> 1\u001b[0m \u001b[38;5;28;01mfrom\u001b[39;00m\u001b[38;5;250m \u001b[39m\u001b[38;5;21;01mnapari\u001b[39;00m\u001b[38;5;21;01m.\u001b[39;00m\u001b[38;5;21;01mqt\u001b[39;00m\u001b[38;5;250m \u001b[39m\u001b[38;5;28;01mimport\u001b[39;00m get_stylesheet\n\u001b[1;32m      2\u001b[0m \u001b[38;5;28;01mfrom\u001b[39;00m\u001b[38;5;250m \u001b[39m\u001b[38;5;21;01mqtpy\u001b[39;00m\u001b[38;5;21;01m.\u001b[39;00m\u001b[38;5;21;01mQtWidgets\u001b[39;00m\u001b[38;5;250m \u001b[39m\u001b[38;5;28;01mimport\u001b[39;00m QInputDialog\n\u001b[1;32m      3\u001b[0m \u001b[38;5;28;01mfrom\u001b[39;00m\u001b[38;5;250m \u001b[39m\u001b[38;5;21;01mqtpy\u001b[39;00m\u001b[38;5;21;01m.\u001b[39;00m\u001b[38;5;21;01mQtWidgets\u001b[39;00m\u001b[38;5;250m \u001b[39m\u001b[38;5;28;01mimport\u001b[39;00m QMessageBox\n",
      "File \u001b[0;32m~/projects/napari-travali2/.venv/lib/python3.13/site-packages/napari/qt/__init__.py:1\u001b[0m\n\u001b[0;32m----> 1\u001b[0m \u001b[38;5;28;01mfrom\u001b[39;00m\u001b[38;5;250m \u001b[39m\u001b[38;5;21;01mnapari\u001b[39;00m\u001b[38;5;21;01m.\u001b[39;00m\u001b[38;5;21;01m_qt\u001b[39;00m\u001b[38;5;21;01m.\u001b[39;00m\u001b[38;5;21;01mqt_event_loop\u001b[39;00m\u001b[38;5;250m \u001b[39m\u001b[38;5;28;01mimport\u001b[39;00m get_app, get_qapp, run\n\u001b[1;32m      2\u001b[0m \u001b[38;5;28;01mfrom\u001b[39;00m\u001b[38;5;250m \u001b[39m\u001b[38;5;21;01mnapari\u001b[39;00m\u001b[38;5;21;01m.\u001b[39;00m\u001b[38;5;21;01m_qt\u001b[39;00m\u001b[38;5;21;01m.\u001b[39;00m\u001b[38;5;21;01mqt_main_window\u001b[39;00m\u001b[38;5;250m \u001b[39m\u001b[38;5;28;01mimport\u001b[39;00m Window\n\u001b[1;32m      3\u001b[0m \u001b[38;5;28;01mfrom\u001b[39;00m\u001b[38;5;250m \u001b[39m\u001b[38;5;21;01mnapari\u001b[39;00m\u001b[38;5;21;01m.\u001b[39;00m\u001b[38;5;21;01m_qt\u001b[39;00m\u001b[38;5;21;01m.\u001b[39;00m\u001b[38;5;21;01mqt_resources\u001b[39;00m\u001b[38;5;250m \u001b[39m\u001b[38;5;28;01mimport\u001b[39;00m get_current_stylesheet, get_stylesheet\n",
      "File \u001b[0;32m~/projects/napari-travali2/.venv/lib/python3.13/site-packages/napari/_qt/__init__.py:90\u001b[0m\n\u001b[1;32m     82\u001b[0m         warn_message \u001b[38;5;241m=\u001b[39m trans\u001b[38;5;241m.\u001b[39m_(\n\u001b[1;32m     83\u001b[0m             \u001b[38;5;124m'\u001b[39m\u001b[38;5;130;01m\\n\u001b[39;00m\u001b[38;5;130;01m\\n\u001b[39;00m\u001b[38;5;124mnapari was tested with QT library `>=5.12.3`.\u001b[39m\u001b[38;5;130;01m\\n\u001b[39;00m\u001b[38;5;124mThe version installed is \u001b[39m\u001b[38;5;132;01m{version}\u001b[39;00m\u001b[38;5;124m. Please report any issues with\u001b[39m\u001b[38;5;130;01m\\n\u001b[39;00m\u001b[38;5;124mthis specific QT version at https://github.com/Napari/napari/issues.\u001b[39m\u001b[38;5;124m'\u001b[39m,\n\u001b[1;32m     84\u001b[0m             deferred\u001b[38;5;241m=\u001b[39m\u001b[38;5;28;01mTrue\u001b[39;00m,\n\u001b[1;32m     85\u001b[0m             version\u001b[38;5;241m=\u001b[39mQtCore\u001b[38;5;241m.\u001b[39m__version__,\n\u001b[1;32m     86\u001b[0m         )\n\u001b[1;32m     87\u001b[0m     warn(message\u001b[38;5;241m=\u001b[39mwarn_message, stacklevel\u001b[38;5;241m=\u001b[39m\u001b[38;5;241m1\u001b[39m)\n\u001b[0;32m---> 90\u001b[0m \u001b[38;5;28;01mfrom\u001b[39;00m\u001b[38;5;250m \u001b[39m\u001b[38;5;21;01mnapari\u001b[39;00m\u001b[38;5;21;01m.\u001b[39;00m\u001b[38;5;21;01m_qt\u001b[39;00m\u001b[38;5;21;01m.\u001b[39;00m\u001b[38;5;21;01mqt_event_loop\u001b[39;00m\u001b[38;5;250m \u001b[39m\u001b[38;5;28;01mimport\u001b[39;00m get_app, get_qapp, gui_qt, quit_app, run\n\u001b[1;32m     91\u001b[0m \u001b[38;5;28;01mfrom\u001b[39;00m\u001b[38;5;250m \u001b[39m\u001b[38;5;21;01mnapari\u001b[39;00m\u001b[38;5;21;01m.\u001b[39;00m\u001b[38;5;21;01m_qt\u001b[39;00m\u001b[38;5;21;01m.\u001b[39;00m\u001b[38;5;21;01mqt_main_window\u001b[39;00m\u001b[38;5;250m \u001b[39m\u001b[38;5;28;01mimport\u001b[39;00m Window\n\u001b[1;32m     93\u001b[0m __all__ \u001b[38;5;241m=\u001b[39m [\u001b[38;5;124m'\u001b[39m\u001b[38;5;124mWindow\u001b[39m\u001b[38;5;124m'\u001b[39m, \u001b[38;5;124m'\u001b[39m\u001b[38;5;124mget_app\u001b[39m\u001b[38;5;124m'\u001b[39m, \u001b[38;5;124m'\u001b[39m\u001b[38;5;124mget_qapp\u001b[39m\u001b[38;5;124m'\u001b[39m, \u001b[38;5;124m'\u001b[39m\u001b[38;5;124mgui_qt\u001b[39m\u001b[38;5;124m'\u001b[39m, \u001b[38;5;124m'\u001b[39m\u001b[38;5;124mquit_app\u001b[39m\u001b[38;5;124m'\u001b[39m, \u001b[38;5;124m'\u001b[39m\u001b[38;5;124mrun\u001b[39m\u001b[38;5;124m'\u001b[39m]\n",
      "File \u001b[0;32m~/projects/napari-travali2/.venv/lib/python3.13/site-packages/napari/_qt/qt_event_loop.py:24\u001b[0m\n\u001b[1;32m     22\u001b[0m \u001b[38;5;28;01mfrom\u001b[39;00m\u001b[38;5;250m \u001b[39m\u001b[38;5;21;01mnapari\u001b[39;00m\u001b[38;5;21;01m.\u001b[39;00m\u001b[38;5;21;01mresources\u001b[39;00m\u001b[38;5;21;01m.\u001b[39;00m\u001b[38;5;21;01m_icons\u001b[39;00m\u001b[38;5;250m \u001b[39m\u001b[38;5;28;01mimport\u001b[39;00m _theme_path\n\u001b[1;32m     23\u001b[0m \u001b[38;5;28;01mfrom\u001b[39;00m\u001b[38;5;250m \u001b[39m\u001b[38;5;21;01mnapari\u001b[39;00m\u001b[38;5;21;01m.\u001b[39;00m\u001b[38;5;21;01msettings\u001b[39;00m\u001b[38;5;250m \u001b[39m\u001b[38;5;28;01mimport\u001b[39;00m get_settings\n\u001b[0;32m---> 24\u001b[0m \u001b[38;5;28;01mfrom\u001b[39;00m\u001b[38;5;250m \u001b[39m\u001b[38;5;21;01mnapari\u001b[39;00m\u001b[38;5;21;01m.\u001b[39;00m\u001b[38;5;21;01mutils\u001b[39;00m\u001b[38;5;250m \u001b[39m\u001b[38;5;28;01mimport\u001b[39;00m config, perf\n\u001b[1;32m     25\u001b[0m \u001b[38;5;28;01mfrom\u001b[39;00m\u001b[38;5;250m \u001b[39m\u001b[38;5;21;01mnapari\u001b[39;00m\u001b[38;5;21;01m.\u001b[39;00m\u001b[38;5;21;01mutils\u001b[39;00m\u001b[38;5;21;01m.\u001b[39;00m\u001b[38;5;21;01mnotifications\u001b[39;00m\u001b[38;5;250m \u001b[39m\u001b[38;5;28;01mimport\u001b[39;00m (\n\u001b[1;32m     26\u001b[0m     notification_manager,\n\u001b[1;32m     27\u001b[0m     show_console_notification,\n\u001b[1;32m     28\u001b[0m )\n\u001b[1;32m     29\u001b[0m \u001b[38;5;28;01mfrom\u001b[39;00m\u001b[38;5;250m \u001b[39m\u001b[38;5;21;01mnapari\u001b[39;00m\u001b[38;5;21;01m.\u001b[39;00m\u001b[38;5;21;01mutils\u001b[39;00m\u001b[38;5;21;01m.\u001b[39;00m\u001b[38;5;21;01mperf\u001b[39;00m\u001b[38;5;250m \u001b[39m\u001b[38;5;28;01mimport\u001b[39;00m perf_config\n",
      "File \u001b[0;32m~/projects/napari-travali2/.venv/lib/python3.13/site-packages/napari/utils/perf/__init__.py:54\u001b[0m\n\u001b[1;32m      1\u001b[0m \u001b[38;5;124;03m\"\"\"Performance Monitoring.\u001b[39;00m\n\u001b[1;32m      2\u001b[0m \n\u001b[1;32m      3\u001b[0m \u001b[38;5;124;03mThe perfmon module lets you instrument your code and visualize its run-time\u001b[39;00m\n\u001b[0;32m   (...)\u001b[0m\n\u001b[1;32m     49\u001b[0m \u001b[38;5;124;03mnot to leave them in the code. Think of them as similar to debug prints.\u001b[39;00m\n\u001b[1;32m     50\u001b[0m \u001b[38;5;124;03m\"\"\"\u001b[39;00m\n\u001b[1;32m     52\u001b[0m \u001b[38;5;28;01mimport\u001b[39;00m\u001b[38;5;250m \u001b[39m\u001b[38;5;21;01mos\u001b[39;00m\n\u001b[0;32m---> 54\u001b[0m \u001b[38;5;28;01mfrom\u001b[39;00m\u001b[38;5;250m \u001b[39m\u001b[38;5;21;01mnapari\u001b[39;00m\u001b[38;5;21;01m.\u001b[39;00m\u001b[38;5;21;01mutils\u001b[39;00m\u001b[38;5;21;01m.\u001b[39;00m\u001b[38;5;21;01mperf\u001b[39;00m\u001b[38;5;21;01m.\u001b[39;00m\u001b[38;5;21;01m_config\u001b[39;00m\u001b[38;5;250m \u001b[39m\u001b[38;5;28;01mimport\u001b[39;00m perf_config\n\u001b[1;32m     55\u001b[0m \u001b[38;5;28;01mfrom\u001b[39;00m\u001b[38;5;250m \u001b[39m\u001b[38;5;21;01mnapari\u001b[39;00m\u001b[38;5;21;01m.\u001b[39;00m\u001b[38;5;21;01mutils\u001b[39;00m\u001b[38;5;21;01m.\u001b[39;00m\u001b[38;5;21;01mperf\u001b[39;00m\u001b[38;5;21;01m.\u001b[39;00m\u001b[38;5;21;01m_event\u001b[39;00m\u001b[38;5;250m \u001b[39m\u001b[38;5;28;01mimport\u001b[39;00m PerfEvent\n\u001b[1;32m     56\u001b[0m \u001b[38;5;28;01mfrom\u001b[39;00m\u001b[38;5;250m \u001b[39m\u001b[38;5;21;01mnapari\u001b[39;00m\u001b[38;5;21;01m.\u001b[39;00m\u001b[38;5;21;01mutils\u001b[39;00m\u001b[38;5;21;01m.\u001b[39;00m\u001b[38;5;21;01mperf\u001b[39;00m\u001b[38;5;21;01m.\u001b[39;00m\u001b[38;5;21;01m_timers\u001b[39;00m\u001b[38;5;250m \u001b[39m\u001b[38;5;28;01mimport\u001b[39;00m (\n\u001b[1;32m     57\u001b[0m     add_counter_event,\n\u001b[1;32m     58\u001b[0m     add_instant_event,\n\u001b[0;32m   (...)\u001b[0m\n\u001b[1;32m     61\u001b[0m     timers,\n\u001b[1;32m     62\u001b[0m )\n",
      "File \u001b[0;32m~/projects/napari-travali2/.venv/lib/python3.13/site-packages/napari/utils/perf/_config.py:172\u001b[0m\n\u001b[1;32m    168\u001b[0m     \u001b[38;5;28;01mreturn\u001b[39;00m PerfmonConfig(value)  \u001b[38;5;66;03m# Normal parse the config file.\u001b[39;00m\n\u001b[1;32m    171\u001b[0m \u001b[38;5;66;03m# The global instance\u001b[39;00m\n\u001b[0;32m--> 172\u001b[0m perf_config \u001b[38;5;241m=\u001b[39m \u001b[43m_create_perf_config\u001b[49m\u001b[43m(\u001b[49m\u001b[43m)\u001b[49m\n",
      "File \u001b[0;32m~/projects/napari-travali2/.venv/lib/python3.13/site-packages/napari/utils/perf/_config.py:168\u001b[0m, in \u001b[0;36m_create_perf_config\u001b[0;34m()\u001b[0m\n\u001b[1;32m    165\u001b[0m \u001b[38;5;28;01mif\u001b[39;00m value \u001b[38;5;241m==\u001b[39m \u001b[38;5;124m'\u001b[39m\u001b[38;5;124m1\u001b[39m\u001b[38;5;124m'\u001b[39m:\n\u001b[1;32m    166\u001b[0m     \u001b[38;5;28;01mreturn\u001b[39;00m PerfmonConfig(\u001b[38;5;28;01mNone\u001b[39;00m)  \u001b[38;5;66;03m# Legacy no config, Qt events only.\u001b[39;00m\n\u001b[0;32m--> 168\u001b[0m \u001b[38;5;28;01mreturn\u001b[39;00m \u001b[43mPerfmonConfig\u001b[49m\u001b[43m(\u001b[49m\u001b[43mvalue\u001b[49m\u001b[43m)\u001b[49m\n",
      "File \u001b[0;32m~/projects/napari-travali2/.venv/lib/python3.13/site-packages/napari/utils/perf/_config.py:88\u001b[0m, in \u001b[0;36mPerfmonConfig.__init__\u001b[0;34m(self, config_path)\u001b[0m\n\u001b[1;32m     85\u001b[0m     \u001b[38;5;28;01mreturn\u001b[39;00m  \u001b[38;5;66;03m# Legacy mode, trace Qt events only.\u001b[39;00m\n\u001b[1;32m     87\u001b[0m path \u001b[38;5;241m=\u001b[39m Path(config_path)\n\u001b[0;32m---> 88\u001b[0m \u001b[38;5;28;01mwith\u001b[39;00m \u001b[43mpath\u001b[49m\u001b[38;5;241;43m.\u001b[39;49m\u001b[43mopen\u001b[49m\u001b[43m(\u001b[49m\u001b[43m)\u001b[49m \u001b[38;5;28;01mas\u001b[39;00m infile:\n\u001b[1;32m     89\u001b[0m     \u001b[38;5;28mself\u001b[39m\u001b[38;5;241m.\u001b[39mdata \u001b[38;5;241m=\u001b[39m json\u001b[38;5;241m.\u001b[39mload(infile)\n",
      "File \u001b[0;32m/opt/homebrew/Cellar/python@3.13/3.13.1/Frameworks/Python.framework/Versions/3.13/lib/python3.13/pathlib/_local.py:537\u001b[0m, in \u001b[0;36mPath.open\u001b[0;34m(self, mode, buffering, encoding, errors, newline)\u001b[0m\n\u001b[1;32m    535\u001b[0m \u001b[38;5;28;01mif\u001b[39;00m \u001b[38;5;124m\"\u001b[39m\u001b[38;5;124mb\u001b[39m\u001b[38;5;124m\"\u001b[39m \u001b[38;5;129;01mnot\u001b[39;00m \u001b[38;5;129;01min\u001b[39;00m mode:\n\u001b[1;32m    536\u001b[0m     encoding \u001b[38;5;241m=\u001b[39m io\u001b[38;5;241m.\u001b[39mtext_encoding(encoding)\n\u001b[0;32m--> 537\u001b[0m \u001b[38;5;28;01mreturn\u001b[39;00m \u001b[43mio\u001b[49m\u001b[38;5;241;43m.\u001b[39;49m\u001b[43mopen\u001b[49m\u001b[43m(\u001b[49m\u001b[38;5;28;43mself\u001b[39;49m\u001b[43m,\u001b[49m\u001b[43m \u001b[49m\u001b[43mmode\u001b[49m\u001b[43m,\u001b[49m\u001b[43m \u001b[49m\u001b[43mbuffering\u001b[49m\u001b[43m,\u001b[49m\u001b[43m \u001b[49m\u001b[43mencoding\u001b[49m\u001b[43m,\u001b[49m\u001b[43m \u001b[49m\u001b[43merrors\u001b[49m\u001b[43m,\u001b[49m\u001b[43m \u001b[49m\u001b[43mnewline\u001b[49m\u001b[43m)\u001b[49m\n",
      "\u001b[0;31mFileNotFoundError\u001b[0m: [Errno 2] No such file or directory: '/Users/fukai/projects/napari-travali2/examples/prefmon.json'"
     ]
    }
   ],
   "source": [
    "from napari import Viewer\n",
    "from napari_travali2._stateful_widget import StateMachineWidget\n",
    "from napari_travali2._logging import logger\n",
    "import numpy as np\n",
    "\n",
    "logger.setLevel(\"DEBUG\")\n",
    "logger.info(\"Starting napari-travali2\")\n",
    "\n",
    "viewer = Viewer()\n",
    "viewer.add_image(image, translate=[0,1000,1000])\n",
    "labels_layer = viewer.add_labels(ta.array, translate=[0,1000,1000])\n",
    "labels_layer.editable=False\n",
    "widget = StateMachineWidget(viewer, labels_layer, ta)\n",
    "viewer.window.add_dock_widget(widget, area=\"right\")"
   ]
  },
  {
   "cell_type": "code",
   "execution_count": 4,
   "metadata": {},
   "outputs": [
    {
     "data": {
      "text/plain": [
       "{7: [10, 9], 8: [12, 11], 9: [17, 16], 1: [20, 21]}"
      ]
     },
     "execution_count": 4,
     "metadata": {},
     "output_type": "execute_result"
    }
   ],
   "source": [
    "ta.splits"
   ]
  },
  {
   "cell_type": "code",
   "execution_count": 2,
   "metadata": {},
   "outputs": [
    {
     "data": {
      "text/plain": [
       "<napari._qt.widgets.qt_viewer_dock_widget.QtViewerDockWidget at 0x2b59485f0>"
      ]
     },
     "execution_count": 2,
     "metadata": {},
     "output_type": "execute_result"
    },
    {
     "name": "stderr",
     "output_type": "stream",
     "text": [
      "Traceback (most recent call last):\n",
      "  File \"/Users/fukai/projects/napari-travali2/.venv/lib/python3.13/site-packages/app_model/backends/qt/_qaction.py\", line 59, in _on_triggered\n",
      "    self._app.commands.execute_command(self._command_id).result()\n",
      "    ~~~~~~~~~~~~~~~~~~~~~~~~~~~~~~~~~~^^^^^^^^^^^^^^^^^^\n",
      "  File \"/Users/fukai/projects/napari-travali2/.venv/lib/python3.13/site-packages/app_model/registries/_commands_reg.py\", line 247, in execute_command\n",
      "    raise e\n",
      "  File \"/Users/fukai/projects/napari-travali2/.venv/lib/python3.13/site-packages/app_model/registries/_commands_reg.py\", line 242, in execute_command\n",
      "    future.set_result(cmd(*args, **kwargs))\n",
      "                      ~~~^^^^^^^^^^^^^^^^^\n",
      "  File \"/Users/fukai/projects/napari-travali2/.venv/lib/python3.13/site-packages/in_n_out/_store.py\", line 934, in _exec\n",
      "    result = func(*args, **kwargs)\n",
      "  File \"/Users/fukai/projects/napari-travali2/.venv/lib/python3.13/site-packages/in_n_out/_store.py\", line 804, in _exec\n",
      "    result = func(**bound.arguments)\n",
      "  File \"/Users/fukai/projects/napari-travali2/.venv/lib/python3.13/site-packages/napari/_qt/_qapp_model/qactions/_file.py\", line 105, in _save_selected_layers\n",
      "    qt_viewer._save_layers_dialog(selected=True)\n",
      "    ~~~~~~~~~~~~~~~~~~~~~~~~~~~~~^^^^^^^^^^^^^^^\n",
      "  File \"/Users/fukai/projects/napari-travali2/.venv/lib/python3.13/site-packages/napari/_qt/qt_viewer.py\", line 756, in _save_layers_dialog\n",
      "    raise OSError(trans._('Nothing to save'))\n",
      "OSError: Nothing to save\n",
      "Traceback (most recent call last):\n",
      "  File \"/Users/fukai/projects/napari-travali2/.venv/lib/python3.13/site-packages/app_model/backends/qt/_qaction.py\", line 59, in _on_triggered\n",
      "    self._app.commands.execute_command(self._command_id).result()\n",
      "    ~~~~~~~~~~~~~~~~~~~~~~~~~~~~~~~~~~^^^^^^^^^^^^^^^^^^\n",
      "  File \"/Users/fukai/projects/napari-travali2/.venv/lib/python3.13/site-packages/app_model/registries/_commands_reg.py\", line 247, in execute_command\n",
      "    raise e\n",
      "  File \"/Users/fukai/projects/napari-travali2/.venv/lib/python3.13/site-packages/app_model/registries/_commands_reg.py\", line 242, in execute_command\n",
      "    future.set_result(cmd(*args, **kwargs))\n",
      "                      ~~~^^^^^^^^^^^^^^^^^\n",
      "  File \"/Users/fukai/projects/napari-travali2/.venv/lib/python3.13/site-packages/in_n_out/_store.py\", line 934, in _exec\n",
      "    result = func(*args, **kwargs)\n",
      "  File \"/Users/fukai/projects/napari-travali2/.venv/lib/python3.13/site-packages/in_n_out/_store.py\", line 804, in _exec\n",
      "    result = func(**bound.arguments)\n",
      "  File \"/Users/fukai/projects/napari-travali2/.venv/lib/python3.13/site-packages/napari/_qt/_qapp_model/qactions/_file.py\", line 105, in _save_selected_layers\n",
      "    qt_viewer._save_layers_dialog(selected=True)\n",
      "    ~~~~~~~~~~~~~~~~~~~~~~~~~~~~~^^^^^^^^^^^^^^^\n",
      "  File \"/Users/fukai/projects/napari-travali2/.venv/lib/python3.13/site-packages/napari/_qt/qt_viewer.py\", line 756, in _save_layers_dialog\n",
      "    raise OSError(trans._('Nothing to save'))\n",
      "OSError: Nothing to save\n"
     ]
    }
   ],
   "source": [
    "from transitions import Machine\n",
    "from qtpy.QtWidgets import QPushButton, QVBoxLayout, QWidget, QLabel\n",
    "from qtpy.QtCore import Qt\n",
    "from napari import Viewer\n",
    "\n",
    "class StateMachineWidget(QWidget):\n",
    "    def __init__(self, viewer: Viewer):\n",
    "        super().__init__()\n",
    "\n",
    "        self.viewer = viewer\n",
    "\n",
    "        # Set up the layout\n",
    "        self.layout = QVBoxLayout()\n",
    "\n",
    "        # Add a label to show the current state\n",
    "        self.state_label = QLabel(\"Current State: idle\")\n",
    "        self.layout.addWidget(self.state_label)\n",
    "\n",
    "        # Add buttons to trigger transitions\n",
    "        self.start_button = QPushButton(\"Start\")\n",
    "        self.pause_button = QPushButton(\"Pause\")\n",
    "        self.reset_button = QPushButton(\"Reset\")\n",
    "\n",
    "        self.layout.addWidget(self.start_button)\n",
    "        self.layout.addWidget(self.pause_button)\n",
    "        self.layout.addWidget(self.reset_button)\n",
    "\n",
    "        self.setLayout(self.layout)\n",
    "\n",
    "        # Define the state machine\n",
    "        self.states = [\"idle\", \"running\", \"paused\"]\n",
    "        self.machine = Machine(model=self, states=self.states, initial=\"idle\")\n",
    "\n",
    "        # Add transitions\n",
    "        self.machine.add_transition(\"start\", \"idle\", \"running\")\n",
    "        self.machine.add_transition(\"pause\", \"running\", \"paused\")\n",
    "        self.machine.add_transition(\"resume\", \"paused\", \"running\")\n",
    "        self.machine.add_transition(\"reset\", [\"paused\", \"running\"], \"idle\")\n",
    "\n",
    "        # Connect buttons to state transitions\n",
    "        self.start_button.clicked.connect(self.on_start)\n",
    "        self.pause_button.clicked.connect(self.on_pause)\n",
    "        self.reset_button.clicked.connect(self.on_reset)\n",
    "\n",
    "        # Bind viewer key events to transitions\n",
    "        self.viewer.bind_key(\"s\", lambda _viewer: self.on_start(), overwrite=True)  # Press 'S' to start\n",
    "        self.viewer.bind_key(\"p\", lambda _viewer: self.on_pause(), overwrite=True)  # Press 'P' to pause/resume\n",
    "        self.viewer.bind_key(\"r\", lambda _viewer: self.on_reset(), overwrite=True)  # Press 'R' to reset\n",
    "\n",
    "    def on_start(self):\n",
    "        if self.state == \"idle\":\n",
    "            self.start()\n",
    "            self.update_label()\n",
    "\n",
    "    def on_pause(self):\n",
    "        if self.state == \"running\":\n",
    "            self.pause()\n",
    "            self.update_label()\n",
    "        elif self.state == \"paused\":\n",
    "            self.resume()\n",
    "            self.update_label()\n",
    "\n",
    "    def on_reset(self):\n",
    "        if self.state in [\"running\", \"paused\"]:\n",
    "            self.reset()\n",
    "            self.update_label()\n",
    "\n",
    "    def update_label(self):\n",
    "        self.state_label.setText(f\"Current State: {self.state}\")\n",
    "\n",
    "viewer = Viewer()\n",
    "widget = StateMachineWidget(viewer)\n",
    "viewer.window.add_dock_widget(widget, area=\"right\")"
   ]
  },
  {
   "cell_type": "code",
   "execution_count": null,
   "metadata": {},
   "outputs": [],
   "source": [
    "@log_error\n",
    "def track_clicked(layer, event):\n",
    "    logger.info(\"Track clicked\")\n",
    "    yield  # important to avoid a potential bug when selecting the daughter\n",
    "    logger.info(\"button released\")\n",
    "    data_coordinates = layer.world_to_data(event.position)\n",
    "    logger.debug(f\"world coordinates: {event.position}\")\n",
    "    logger.debug(f\"data coordinates: {data_coordinates}\")\n",
    "    cords = np.round(data_coordinates).astype(int)\n",
    "    val = layer.get_value(data_coordinates)\n",
    "    try:\n",
    "        _ = iter(val)\n",
    "        val = val[-1]\n",
    "    except TypeError as te:\n",
    "        pass\n",
    "        \n",
    "    if val is None:\n",
    "        return\n",
    "    if val != 0:\n",
    "        frame = cords[0]\n",
    "        logger.info(f\"clicked at {cords} at frame {frame} and label value {val}\")\n",
    "        self.track_clicked(frame, val, cords)\n",
    "self._cropped_label_layer.mouse_drag_callbacks.append(track_clicked)"
   ]
  }
 ],
 "metadata": {
  "kernelspec": {
   "display_name": ".venv",
   "language": "python",
   "name": "python3"
  },
  "language_info": {
   "codemirror_mode": {
    "name": "ipython",
    "version": 3
   },
   "file_extension": ".py",
   "mimetype": "text/x-python",
   "name": "python",
   "nbconvert_exporter": "python",
   "pygments_lexer": "ipython3",
   "version": "3.13.1"
  }
 },
 "nbformat": 4,
 "nbformat_minor": 2
}
